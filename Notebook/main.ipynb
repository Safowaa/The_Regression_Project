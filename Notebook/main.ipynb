{
  "cells": [
    {
      "cell_type": "markdown",
      "metadata": {},
      "source": [
        "# The Regresson Project"
      ]
    },
    {
      "cell_type": "markdown",
      "metadata": {},
      "source": [
        "## Business Understanding"
      ]
    },
    {
      "cell_type": "markdown",
      "metadata": {},
      "source": [
        "## Background"
      ]
    },
    {
      "cell_type": "markdown",
      "metadata": {},
      "source": [
        "#### This project centres on time series forecasting to predict store sales for Corporation Favorita, a major Ecuadorian-based grocery retailer. The aim is to develop a model that accurately forecasts the unit sales of thousands of items across various Favorita stores."
      ]
    },
    {
      "cell_type": "markdown",
      "metadata": {},
      "source": [
        "## Scenario"
      ]
    },
    {
      "cell_type": "markdown",
      "metadata": {},
      "source": [
        "#### As the team lead for data science at Corporation Favorita, a large Ecuadorian-based grocery retailer, my goal is to ensure that we always have the right quantity of products in stock. To achieve this, we have decided to build a series of machine learning models to forecast the demand for products in various locations. The marketing and sales team have provided us with some data to aid in this endeavour. Our team uses the CRISP-DM Framework for our Data Science projects."
      ]
    },
    {
      "cell_type": "markdown",
      "metadata": {},
      "source": [
        "## Objective"
      ]
    },
    {
      "cell_type": "markdown",
      "metadata": {},
      "source": [
        "### This project will focus on two key areas.\n",
        "\n",
        "#### *Understanding the Data:* The first objective is to gain insights into the store sales data, including store-specific information, product families, promotions, and sales numbers. This understanding will enable the company to make informed business decisions.\n",
        "\n",
        "#### *Predicting Store Sales:* The goal is to develop a reliable time series forecasting model that accurately predicts the unit sales for different product families at various Favorita stores. This will help the company optimize inventory management, plan promotions, and improve overall sales performance."
      ]
    },
    {
      "cell_type": "markdown",
      "metadata": {},
      "source": [
        "## Methodology "
      ]
    },
    {
      "cell_type": "markdown",
      "metadata": {},
      "source": [
        "#### *Data Exploration:* Our team will begin with a thorough exploration of the data. This involves examining the dataset to understand its structure, identifying missing values, and assessing the overall quality of the data. We will perform descriptive statistics to summarise the main features of the data and use visualisation techniques to uncover patterns and trends. By understanding the relationships between different variables, such as store-specific information, product families, promotions, and sales numbers, we will be able to identify key factors that influence sales."
      ]
    },
    {
      "cell_type": "markdown",
      "metadata": {},
      "source": [
        "#### *Data Preparation:* Once we have a good grasp of the data, we will move on to the data preparation phase. This step includes cleaning the data by handling missing values, outliers, and any inconsistencies. We will also perform feature engineering to create new variables that can enhance the model's predictive power. For instance, we might create features that capture seasonality, promotional effects, and store-specific trends. The data will be split into training and testing sets to validate our models effectively."
      ]
    },
    {
      "cell_type": "markdown",
      "metadata": {},
      "source": [
        "#### *Time Series Analysis:* With the prepared data, we will conduct a time series analysis to model and forecast sales. We will evaluate each model's performance using appropriate metrics and cross-validation techniques to ensure robustness. The chosen model will be fine-tuned to optimise its accuracy in predicting unit sales for various product families across different Favorita stores. This forecasting model will then be used to help the company optimise inventory management, plan promotions, and improve overall sales performance."
      ]
    },
    {
      "cell_type": "markdown",
      "metadata": {},
      "source": [
        "## Additional Notes"
      ]
    },
    {
      "cell_type": "markdown",
      "metadata": {},
      "source": [
        "#### **1.** Wages in the public sector are paid every two weeks on the 15th and on the last day of the month. Supermarket sales could be affected by this."
      ]
    },
    {
      "cell_type": "markdown",
      "metadata": {},
      "source": [
        "#### **2.** A magnitude 7.8 earthquake struck Ecuador on April 16, 2016. People rallied in relief efforts donating water and other first need products which greatly affected supermarket sales for several weeks after the earthquake."
      ]
    },
    {
      "cell_type": "markdown",
      "metadata": {},
      "source": [
        "## Hypothesis"
      ]
    },
    {
      "cell_type": "markdown",
      "metadata": {},
      "source": [
        " **`Null Hypothesis`**"
      ]
    },
    {
      "cell_type": "markdown",
      "metadata": {},
      "source": [
        "#### There is no significant relationship between the date and the sales figures in the dataset."
      ]
    },
    {
      "cell_type": "markdown",
      "metadata": {},
      "source": [
        "**` Alternative Hypothesis `**"
      ]
    },
    {
      "cell_type": "markdown",
      "metadata": {},
      "source": [
        "#### There is a significant relationship between the date and the sales figures in the dataset."
      ]
    },
    {
      "cell_type": "markdown",
      "metadata": {},
      "source": [
        "## Analytical Questions"
      ]
    },
    {
      "cell_type": "markdown",
      "metadata": {},
      "source": [
        "#### **1.** `Is the train dataset complete (has all the required dates)?`"
      ]
    },
    {
      "cell_type": "markdown",
      "metadata": {},
      "source": [
        "#### **2.** `Which dates have the lowest and highest sales for each year (excluding days the store was closed)?`"
      ]
    },
    {
      "cell_type": "markdown",
      "metadata": {},
      "source": [
        "#### **3.** `Compare the sales for each month across the years and determine which month of which year had the highest sales.`\n"
      ]
    },
    {
      "cell_type": "markdown",
      "metadata": {},
      "source": [
        "#### **4.** `Did the earthquake impact sales?`"
      ]
    },
    {
      "cell_type": "markdown",
      "metadata": {},
      "source": [
        "#### **5.** `Are certain stores or groups of stores selling more products? (Cluster, city, state, type)`"
      ]
    },
    {
      "cell_type": "markdown",
      "metadata": {},
      "source": [
        "#### **6.** `Are sales affected by promotions, oil prices and holidays?`"
      ]
    },
    {
      "cell_type": "markdown",
      "metadata": {},
      "source": [
        "#### **7.** `What analysis can we get from the date and its extractable features?`\n"
      ]
    },
    {
      "cell_type": "markdown",
      "metadata": {},
      "source": [
        "#### **8.** `Which product family and stores did the promotions affect.`\n"
      ]
    },
    {
      "cell_type": "markdown",
      "metadata": {},
      "source": [
        "#### **9.** `What is the difference between RMSLE, RMSE, MSE (or why is the MAE greater than all of them?)`\n"
      ]
    },
    {
      "cell_type": "markdown",
      "metadata": {},
      "source": [
        "#### **10.** `Does the payment of wages in the public sector on the 15th and last days of the month influence the store sales.`"
      ]
    },
    {
      "cell_type": "markdown",
      "metadata": {},
      "source": [
        "## Business Questions"
      ]
    },
    {
      "cell_type": "markdown",
      "metadata": {},
      "source": [
        "**1** ` How do sales trends vary over different seasons of the year?`"
      ]
    },
    {
      "cell_type": "markdown",
      "metadata": {},
      "source": [
        "**2** ` What is the impact of promotions on the sales of different product families?`"
      ]
    },
    {
      "cell_type": "markdown",
      "metadata": {},
      "source": [
        "**3** ` Are there significant differences in sales performance across different store clusters?`"
      ]
    },
    {
      "cell_type": "markdown",
      "metadata": {},
      "source": [
        "**4** ` How do external factors, such as oil prices (dcoilwtico), affect sales trends?`"
      ]
    },
    {
      "cell_type": "markdown",
      "metadata": {},
      "source": [
        "**5** ` What is the effect of holiday periods or special events on sales volumes? `"
      ]
    },
    {
      "cell_type": "markdown",
      "metadata": {},
      "source": [
        "## Data Understandng"
      ]
    },
    {
      "cell_type": "markdown",
      "metadata": {},
      "source": [
        "### Data Collection"
      ]
    },
    {
      "cell_type": "markdown",
      "metadata": {},
      "source": [
        "#### The task involves accessing three distinct datasets from different sources: a database, OneDrive, and a GitHub repository. Each dataset requires a specific access method. For the database, we will query using an ODBC or ORM library. For OneDrive, we will download the file programmatically using the requests library. For the GitHub repository, we will either clone or download the file using GitPython or the requests library."
      ]
    },
    {
      "cell_type": "markdown",
      "metadata": {
        "id": "0HmLxlQre7HW"
      },
      "source": [
        "### `Importation`"
      ]
    },
    {
      "cell_type": "code",
      "execution_count": 297,
      "metadata": {
        "id": "MP62JaiKfCnS"
      },
      "outputs": [],
      "source": [
        "# Importing necessary libraries\n",
        "from dotenv import dotenv_values\n",
        "import pyodbc\n",
        "import requests\n",
        "import pandas as pd\n",
        "import numpy as np\n",
        "from scipy.stats import skew, kurtosis\n",
        "from sklearn.preprocessing import StandardScaler, OneHotEncoder\n",
        "from sklearn.compose import ColumnTransformer\n",
        "from sklearn.pipeline import Pipeline\n",
        "from sklearn.impute import SimpleImputer\n",
        "from sklearn.model_selection import train_test_split, cross_val_score, GridSearchCV\n",
        "from sklearn.ensemble import RandomForestClassifier\n",
        "from sklearn.linear_model import LogisticRegression\n",
        "from sklearn.svm import SVC\n",
        "from scipy.stats import ttest_ind\n",
        "from sklearn.tree import DecisionTreeClassifier\n",
        "from sklearn.metrics import confusion_matrix, classification_report, accuracy_score, roc_auc_score\n",
        "import matplotlib.pyplot as plt\n",
        "import seaborn as sns\n",
        "import squarify\n",
        "import random\n",
        "import joblib\n",
        "import warnings\n",
        "\n",
        "# Suppressing all warnings to avoid cluttering the output\n",
        "warnings.filterwarnings(\"ignore\")\n",
        "\n",
        "# Set display options for Pandas DataFrame\n",
        "pd.set_option(\"display.max_rows\", 100)\n",
        "pd.set_option(\"display.max_columns\", 100)\n"
      ]
    },
    {
      "cell_type": "markdown",
      "metadata": {
        "id": "UfOADQf0e9i1"
      },
      "source": [
        "### ` Data Loading `\n"
      ]
    },
    {
      "cell_type": "code",
      "execution_count": 210,
      "metadata": {
        "id": "KIQyG5EcfQlU"
      },
      "outputs": [],
      "source": [
        "# Load environment variables from .env file into a dictionary\n",
        "environment_variables = dotenv_values('.env')\n",
        "\n",
        "# Get the values for the credentials you set in the '.env' file\n",
        "server = environment_variables.get(\"server\")\n",
        "database = environment_variables.get(\"database\")\n",
        "username = environment_variables.get(\"user\")\n",
        "password = environment_variables.get(\"password\")"
      ]
    },
    {
      "cell_type": "code",
      "execution_count": 211,
      "metadata": {},
      "outputs": [],
      "source": [
        "# Create a connection string\n",
        "connection_string = f\"DRIVER={{SQL Server}};SERVER={server};DATABASE={database};UID={username};PWD={password}\""
      ]
    },
    {
      "cell_type": "code",
      "execution_count": 212,
      "metadata": {},
      "outputs": [],
      "source": [
        "# Use the pyodbc library to pass in the connection string.\n",
        "\n",
        "connection = pyodbc.connect(connection_string)"
      ]
    },
    {
      "cell_type": "code",
      "execution_count": 213,
      "metadata": {},
      "outputs": [],
      "source": [
        "# Accessing the data from the database\n",
        "query = \"SELECT * FROM dbo.oil\""
      ]
    },
    {
      "cell_type": "code",
      "execution_count": 214,
      "metadata": {},
      "outputs": [
        {
          "data": {
            "text/html": [
              "<div>\n",
              "<style scoped>\n",
              "    .dataframe tbody tr th:only-of-type {\n",
              "        vertical-align: middle;\n",
              "    }\n",
              "\n",
              "    .dataframe tbody tr th {\n",
              "        vertical-align: top;\n",
              "    }\n",
              "\n",
              "    .dataframe thead th {\n",
              "        text-align: right;\n",
              "    }\n",
              "</style>\n",
              "<table border=\"1\" class=\"dataframe\">\n",
              "  <thead>\n",
              "    <tr style=\"text-align: right;\">\n",
              "      <th></th>\n",
              "      <th>date</th>\n",
              "      <th>dcoilwtico</th>\n",
              "    </tr>\n",
              "  </thead>\n",
              "  <tbody>\n",
              "    <tr>\n",
              "      <th>0</th>\n",
              "      <td>2013-01-01</td>\n",
              "      <td>NaN</td>\n",
              "    </tr>\n",
              "    <tr>\n",
              "      <th>1</th>\n",
              "      <td>2013-01-02</td>\n",
              "      <td>93.139999</td>\n",
              "    </tr>\n",
              "    <tr>\n",
              "      <th>2</th>\n",
              "      <td>2013-01-03</td>\n",
              "      <td>92.970001</td>\n",
              "    </tr>\n",
              "    <tr>\n",
              "      <th>3</th>\n",
              "      <td>2013-01-04</td>\n",
              "      <td>93.120003</td>\n",
              "    </tr>\n",
              "    <tr>\n",
              "      <th>4</th>\n",
              "      <td>2013-01-07</td>\n",
              "      <td>93.199997</td>\n",
              "    </tr>\n",
              "    <tr>\n",
              "      <th>...</th>\n",
              "      <td>...</td>\n",
              "      <td>...</td>\n",
              "    </tr>\n",
              "    <tr>\n",
              "      <th>1213</th>\n",
              "      <td>2017-08-25</td>\n",
              "      <td>47.650002</td>\n",
              "    </tr>\n",
              "    <tr>\n",
              "      <th>1214</th>\n",
              "      <td>2017-08-28</td>\n",
              "      <td>46.400002</td>\n",
              "    </tr>\n",
              "    <tr>\n",
              "      <th>1215</th>\n",
              "      <td>2017-08-29</td>\n",
              "      <td>46.459999</td>\n",
              "    </tr>\n",
              "    <tr>\n",
              "      <th>1216</th>\n",
              "      <td>2017-08-30</td>\n",
              "      <td>45.959999</td>\n",
              "    </tr>\n",
              "    <tr>\n",
              "      <th>1217</th>\n",
              "      <td>2017-08-31</td>\n",
              "      <td>47.259998</td>\n",
              "    </tr>\n",
              "  </tbody>\n",
              "</table>\n",
              "<p>1218 rows × 2 columns</p>\n",
              "</div>"
            ],
            "text/plain": [
              "            date  dcoilwtico\n",
              "0     2013-01-01         NaN\n",
              "1     2013-01-02   93.139999\n",
              "2     2013-01-03   92.970001\n",
              "3     2013-01-04   93.120003\n",
              "4     2013-01-07   93.199997\n",
              "...          ...         ...\n",
              "1213  2017-08-25   47.650002\n",
              "1214  2017-08-28   46.400002\n",
              "1215  2017-08-29   46.459999\n",
              "1216  2017-08-30   45.959999\n",
              "1217  2017-08-31   47.259998\n",
              "\n",
              "[1218 rows x 2 columns]"
            ]
          },
          "execution_count": 214,
          "metadata": {},
          "output_type": "execute_result"
        }
      ],
      "source": [
        "# Viewing the table in the database \n",
        "train_1 = pd.read_sql(query, connection)\n",
        "train_1"
      ]
    },
    {
      "cell_type": "code",
      "execution_count": 215,
      "metadata": {},
      "outputs": [],
      "source": [
        "# Accessing the data from the database \n",
        "query =\"SELECT * FROM dbo.holidays_events\""
      ]
    },
    {
      "cell_type": "code",
      "execution_count": 216,
      "metadata": {},
      "outputs": [
        {
          "data": {
            "text/html": [
              "<div>\n",
              "<style scoped>\n",
              "    .dataframe tbody tr th:only-of-type {\n",
              "        vertical-align: middle;\n",
              "    }\n",
              "\n",
              "    .dataframe tbody tr th {\n",
              "        vertical-align: top;\n",
              "    }\n",
              "\n",
              "    .dataframe thead th {\n",
              "        text-align: right;\n",
              "    }\n",
              "</style>\n",
              "<table border=\"1\" class=\"dataframe\">\n",
              "  <thead>\n",
              "    <tr style=\"text-align: right;\">\n",
              "      <th></th>\n",
              "      <th>date</th>\n",
              "      <th>type</th>\n",
              "      <th>locale</th>\n",
              "      <th>locale_name</th>\n",
              "      <th>description</th>\n",
              "      <th>transferred</th>\n",
              "    </tr>\n",
              "  </thead>\n",
              "  <tbody>\n",
              "    <tr>\n",
              "      <th>0</th>\n",
              "      <td>2012-03-02</td>\n",
              "      <td>Holiday</td>\n",
              "      <td>Local</td>\n",
              "      <td>Manta</td>\n",
              "      <td>Fundacion de Manta</td>\n",
              "      <td>False</td>\n",
              "    </tr>\n",
              "    <tr>\n",
              "      <th>1</th>\n",
              "      <td>2012-04-01</td>\n",
              "      <td>Holiday</td>\n",
              "      <td>Regional</td>\n",
              "      <td>Cotopaxi</td>\n",
              "      <td>Provincializacion de Cotopaxi</td>\n",
              "      <td>False</td>\n",
              "    </tr>\n",
              "    <tr>\n",
              "      <th>2</th>\n",
              "      <td>2012-04-12</td>\n",
              "      <td>Holiday</td>\n",
              "      <td>Local</td>\n",
              "      <td>Cuenca</td>\n",
              "      <td>Fundacion de Cuenca</td>\n",
              "      <td>False</td>\n",
              "    </tr>\n",
              "    <tr>\n",
              "      <th>3</th>\n",
              "      <td>2012-04-14</td>\n",
              "      <td>Holiday</td>\n",
              "      <td>Local</td>\n",
              "      <td>Libertad</td>\n",
              "      <td>Cantonizacion de Libertad</td>\n",
              "      <td>False</td>\n",
              "    </tr>\n",
              "    <tr>\n",
              "      <th>4</th>\n",
              "      <td>2012-04-21</td>\n",
              "      <td>Holiday</td>\n",
              "      <td>Local</td>\n",
              "      <td>Riobamba</td>\n",
              "      <td>Cantonizacion de Riobamba</td>\n",
              "      <td>False</td>\n",
              "    </tr>\n",
              "    <tr>\n",
              "      <th>...</th>\n",
              "      <td>...</td>\n",
              "      <td>...</td>\n",
              "      <td>...</td>\n",
              "      <td>...</td>\n",
              "      <td>...</td>\n",
              "      <td>...</td>\n",
              "    </tr>\n",
              "    <tr>\n",
              "      <th>345</th>\n",
              "      <td>2017-12-22</td>\n",
              "      <td>Additional</td>\n",
              "      <td>National</td>\n",
              "      <td>Ecuador</td>\n",
              "      <td>Navidad-3</td>\n",
              "      <td>False</td>\n",
              "    </tr>\n",
              "    <tr>\n",
              "      <th>346</th>\n",
              "      <td>2017-12-23</td>\n",
              "      <td>Additional</td>\n",
              "      <td>National</td>\n",
              "      <td>Ecuador</td>\n",
              "      <td>Navidad-2</td>\n",
              "      <td>False</td>\n",
              "    </tr>\n",
              "    <tr>\n",
              "      <th>347</th>\n",
              "      <td>2017-12-24</td>\n",
              "      <td>Additional</td>\n",
              "      <td>National</td>\n",
              "      <td>Ecuador</td>\n",
              "      <td>Navidad-1</td>\n",
              "      <td>False</td>\n",
              "    </tr>\n",
              "    <tr>\n",
              "      <th>348</th>\n",
              "      <td>2017-12-25</td>\n",
              "      <td>Holiday</td>\n",
              "      <td>National</td>\n",
              "      <td>Ecuador</td>\n",
              "      <td>Navidad</td>\n",
              "      <td>False</td>\n",
              "    </tr>\n",
              "    <tr>\n",
              "      <th>349</th>\n",
              "      <td>2017-12-26</td>\n",
              "      <td>Additional</td>\n",
              "      <td>National</td>\n",
              "      <td>Ecuador</td>\n",
              "      <td>Navidad+1</td>\n",
              "      <td>False</td>\n",
              "    </tr>\n",
              "  </tbody>\n",
              "</table>\n",
              "<p>350 rows × 6 columns</p>\n",
              "</div>"
            ],
            "text/plain": [
              "           date        type    locale locale_name  \\\n",
              "0    2012-03-02     Holiday     Local       Manta   \n",
              "1    2012-04-01     Holiday  Regional    Cotopaxi   \n",
              "2    2012-04-12     Holiday     Local      Cuenca   \n",
              "3    2012-04-14     Holiday     Local    Libertad   \n",
              "4    2012-04-21     Holiday     Local    Riobamba   \n",
              "..          ...         ...       ...         ...   \n",
              "345  2017-12-22  Additional  National     Ecuador   \n",
              "346  2017-12-23  Additional  National     Ecuador   \n",
              "347  2017-12-24  Additional  National     Ecuador   \n",
              "348  2017-12-25     Holiday  National     Ecuador   \n",
              "349  2017-12-26  Additional  National     Ecuador   \n",
              "\n",
              "                       description  transferred  \n",
              "0               Fundacion de Manta        False  \n",
              "1    Provincializacion de Cotopaxi        False  \n",
              "2              Fundacion de Cuenca        False  \n",
              "3        Cantonizacion de Libertad        False  \n",
              "4        Cantonizacion de Riobamba        False  \n",
              "..                             ...          ...  \n",
              "345                      Navidad-3        False  \n",
              "346                      Navidad-2        False  \n",
              "347                      Navidad-1        False  \n",
              "348                        Navidad        False  \n",
              "349                      Navidad+1        False  \n",
              "\n",
              "[350 rows x 6 columns]"
            ]
          },
          "execution_count": 216,
          "metadata": {},
          "output_type": "execute_result"
        }
      ],
      "source": [
        "# Viewing the table in the database \n",
        "train_2 = pd.read_sql(query, connection)\n",
        "train_2"
      ]
    },
    {
      "cell_type": "code",
      "execution_count": 217,
      "metadata": {},
      "outputs": [],
      "source": [
        "# Accessing the data from the database \n",
        "query =\"SELECT * FROM dbo.stores\""
      ]
    },
    {
      "cell_type": "code",
      "execution_count": 218,
      "metadata": {},
      "outputs": [
        {
          "data": {
            "text/html": [
              "<div>\n",
              "<style scoped>\n",
              "    .dataframe tbody tr th:only-of-type {\n",
              "        vertical-align: middle;\n",
              "    }\n",
              "\n",
              "    .dataframe tbody tr th {\n",
              "        vertical-align: top;\n",
              "    }\n",
              "\n",
              "    .dataframe thead th {\n",
              "        text-align: right;\n",
              "    }\n",
              "</style>\n",
              "<table border=\"1\" class=\"dataframe\">\n",
              "  <thead>\n",
              "    <tr style=\"text-align: right;\">\n",
              "      <th></th>\n",
              "      <th>store_nbr</th>\n",
              "      <th>city</th>\n",
              "      <th>state</th>\n",
              "      <th>type</th>\n",
              "      <th>cluster</th>\n",
              "    </tr>\n",
              "  </thead>\n",
              "  <tbody>\n",
              "    <tr>\n",
              "      <th>0</th>\n",
              "      <td>1</td>\n",
              "      <td>Quito</td>\n",
              "      <td>Pichincha</td>\n",
              "      <td>D</td>\n",
              "      <td>13</td>\n",
              "    </tr>\n",
              "    <tr>\n",
              "      <th>1</th>\n",
              "      <td>2</td>\n",
              "      <td>Quito</td>\n",
              "      <td>Pichincha</td>\n",
              "      <td>D</td>\n",
              "      <td>13</td>\n",
              "    </tr>\n",
              "    <tr>\n",
              "      <th>2</th>\n",
              "      <td>3</td>\n",
              "      <td>Quito</td>\n",
              "      <td>Pichincha</td>\n",
              "      <td>D</td>\n",
              "      <td>8</td>\n",
              "    </tr>\n",
              "    <tr>\n",
              "      <th>3</th>\n",
              "      <td>4</td>\n",
              "      <td>Quito</td>\n",
              "      <td>Pichincha</td>\n",
              "      <td>D</td>\n",
              "      <td>9</td>\n",
              "    </tr>\n",
              "    <tr>\n",
              "      <th>4</th>\n",
              "      <td>5</td>\n",
              "      <td>Santo Domingo</td>\n",
              "      <td>Santo Domingo de los Tsachilas</td>\n",
              "      <td>D</td>\n",
              "      <td>4</td>\n",
              "    </tr>\n",
              "    <tr>\n",
              "      <th>5</th>\n",
              "      <td>6</td>\n",
              "      <td>Quito</td>\n",
              "      <td>Pichincha</td>\n",
              "      <td>D</td>\n",
              "      <td>13</td>\n",
              "    </tr>\n",
              "    <tr>\n",
              "      <th>6</th>\n",
              "      <td>7</td>\n",
              "      <td>Quito</td>\n",
              "      <td>Pichincha</td>\n",
              "      <td>D</td>\n",
              "      <td>8</td>\n",
              "    </tr>\n",
              "    <tr>\n",
              "      <th>7</th>\n",
              "      <td>8</td>\n",
              "      <td>Quito</td>\n",
              "      <td>Pichincha</td>\n",
              "      <td>D</td>\n",
              "      <td>8</td>\n",
              "    </tr>\n",
              "    <tr>\n",
              "      <th>8</th>\n",
              "      <td>9</td>\n",
              "      <td>Quito</td>\n",
              "      <td>Pichincha</td>\n",
              "      <td>B</td>\n",
              "      <td>6</td>\n",
              "    </tr>\n",
              "    <tr>\n",
              "      <th>9</th>\n",
              "      <td>10</td>\n",
              "      <td>Quito</td>\n",
              "      <td>Pichincha</td>\n",
              "      <td>C</td>\n",
              "      <td>15</td>\n",
              "    </tr>\n",
              "    <tr>\n",
              "      <th>10</th>\n",
              "      <td>11</td>\n",
              "      <td>Cayambe</td>\n",
              "      <td>Pichincha</td>\n",
              "      <td>B</td>\n",
              "      <td>6</td>\n",
              "    </tr>\n",
              "    <tr>\n",
              "      <th>11</th>\n",
              "      <td>12</td>\n",
              "      <td>Latacunga</td>\n",
              "      <td>Cotopaxi</td>\n",
              "      <td>C</td>\n",
              "      <td>15</td>\n",
              "    </tr>\n",
              "    <tr>\n",
              "      <th>12</th>\n",
              "      <td>13</td>\n",
              "      <td>Latacunga</td>\n",
              "      <td>Cotopaxi</td>\n",
              "      <td>C</td>\n",
              "      <td>15</td>\n",
              "    </tr>\n",
              "    <tr>\n",
              "      <th>13</th>\n",
              "      <td>14</td>\n",
              "      <td>Riobamba</td>\n",
              "      <td>Chimborazo</td>\n",
              "      <td>C</td>\n",
              "      <td>7</td>\n",
              "    </tr>\n",
              "    <tr>\n",
              "      <th>14</th>\n",
              "      <td>15</td>\n",
              "      <td>Ibarra</td>\n",
              "      <td>Imbabura</td>\n",
              "      <td>C</td>\n",
              "      <td>15</td>\n",
              "    </tr>\n",
              "    <tr>\n",
              "      <th>15</th>\n",
              "      <td>16</td>\n",
              "      <td>Santo Domingo</td>\n",
              "      <td>Santo Domingo de los Tsachilas</td>\n",
              "      <td>C</td>\n",
              "      <td>3</td>\n",
              "    </tr>\n",
              "    <tr>\n",
              "      <th>16</th>\n",
              "      <td>17</td>\n",
              "      <td>Quito</td>\n",
              "      <td>Pichincha</td>\n",
              "      <td>C</td>\n",
              "      <td>12</td>\n",
              "    </tr>\n",
              "    <tr>\n",
              "      <th>17</th>\n",
              "      <td>18</td>\n",
              "      <td>Quito</td>\n",
              "      <td>Pichincha</td>\n",
              "      <td>B</td>\n",
              "      <td>16</td>\n",
              "    </tr>\n",
              "    <tr>\n",
              "      <th>18</th>\n",
              "      <td>19</td>\n",
              "      <td>Guaranda</td>\n",
              "      <td>Bolivar</td>\n",
              "      <td>C</td>\n",
              "      <td>15</td>\n",
              "    </tr>\n",
              "    <tr>\n",
              "      <th>19</th>\n",
              "      <td>20</td>\n",
              "      <td>Quito</td>\n",
              "      <td>Pichincha</td>\n",
              "      <td>B</td>\n",
              "      <td>6</td>\n",
              "    </tr>\n",
              "    <tr>\n",
              "      <th>20</th>\n",
              "      <td>21</td>\n",
              "      <td>Santo Domingo</td>\n",
              "      <td>Santo Domingo de los Tsachilas</td>\n",
              "      <td>B</td>\n",
              "      <td>6</td>\n",
              "    </tr>\n",
              "    <tr>\n",
              "      <th>21</th>\n",
              "      <td>22</td>\n",
              "      <td>Puyo</td>\n",
              "      <td>Pastaza</td>\n",
              "      <td>C</td>\n",
              "      <td>7</td>\n",
              "    </tr>\n",
              "    <tr>\n",
              "      <th>22</th>\n",
              "      <td>23</td>\n",
              "      <td>Ambato</td>\n",
              "      <td>Tungurahua</td>\n",
              "      <td>D</td>\n",
              "      <td>9</td>\n",
              "    </tr>\n",
              "    <tr>\n",
              "      <th>23</th>\n",
              "      <td>24</td>\n",
              "      <td>Guayaquil</td>\n",
              "      <td>Guayas</td>\n",
              "      <td>D</td>\n",
              "      <td>1</td>\n",
              "    </tr>\n",
              "    <tr>\n",
              "      <th>24</th>\n",
              "      <td>25</td>\n",
              "      <td>Salinas</td>\n",
              "      <td>Santa Elena</td>\n",
              "      <td>D</td>\n",
              "      <td>1</td>\n",
              "    </tr>\n",
              "    <tr>\n",
              "      <th>25</th>\n",
              "      <td>26</td>\n",
              "      <td>Guayaquil</td>\n",
              "      <td>Guayas</td>\n",
              "      <td>D</td>\n",
              "      <td>10</td>\n",
              "    </tr>\n",
              "    <tr>\n",
              "      <th>26</th>\n",
              "      <td>27</td>\n",
              "      <td>Daule</td>\n",
              "      <td>Guayas</td>\n",
              "      <td>D</td>\n",
              "      <td>1</td>\n",
              "    </tr>\n",
              "    <tr>\n",
              "      <th>27</th>\n",
              "      <td>28</td>\n",
              "      <td>Guayaquil</td>\n",
              "      <td>Guayas</td>\n",
              "      <td>E</td>\n",
              "      <td>10</td>\n",
              "    </tr>\n",
              "    <tr>\n",
              "      <th>28</th>\n",
              "      <td>29</td>\n",
              "      <td>Guayaquil</td>\n",
              "      <td>Guayas</td>\n",
              "      <td>E</td>\n",
              "      <td>10</td>\n",
              "    </tr>\n",
              "    <tr>\n",
              "      <th>29</th>\n",
              "      <td>30</td>\n",
              "      <td>Guayaquil</td>\n",
              "      <td>Guayas</td>\n",
              "      <td>C</td>\n",
              "      <td>3</td>\n",
              "    </tr>\n",
              "    <tr>\n",
              "      <th>30</th>\n",
              "      <td>31</td>\n",
              "      <td>Babahoyo</td>\n",
              "      <td>Los Rios</td>\n",
              "      <td>B</td>\n",
              "      <td>10</td>\n",
              "    </tr>\n",
              "    <tr>\n",
              "      <th>31</th>\n",
              "      <td>32</td>\n",
              "      <td>Guayaquil</td>\n",
              "      <td>Guayas</td>\n",
              "      <td>C</td>\n",
              "      <td>3</td>\n",
              "    </tr>\n",
              "    <tr>\n",
              "      <th>32</th>\n",
              "      <td>33</td>\n",
              "      <td>Quevedo</td>\n",
              "      <td>Los Rios</td>\n",
              "      <td>C</td>\n",
              "      <td>3</td>\n",
              "    </tr>\n",
              "    <tr>\n",
              "      <th>33</th>\n",
              "      <td>34</td>\n",
              "      <td>Guayaquil</td>\n",
              "      <td>Guayas</td>\n",
              "      <td>B</td>\n",
              "      <td>6</td>\n",
              "    </tr>\n",
              "    <tr>\n",
              "      <th>34</th>\n",
              "      <td>35</td>\n",
              "      <td>Playas</td>\n",
              "      <td>Guayas</td>\n",
              "      <td>C</td>\n",
              "      <td>3</td>\n",
              "    </tr>\n",
              "    <tr>\n",
              "      <th>35</th>\n",
              "      <td>36</td>\n",
              "      <td>Libertad</td>\n",
              "      <td>Guayas</td>\n",
              "      <td>E</td>\n",
              "      <td>10</td>\n",
              "    </tr>\n",
              "    <tr>\n",
              "      <th>36</th>\n",
              "      <td>37</td>\n",
              "      <td>Cuenca</td>\n",
              "      <td>Azuay</td>\n",
              "      <td>D</td>\n",
              "      <td>2</td>\n",
              "    </tr>\n",
              "    <tr>\n",
              "      <th>37</th>\n",
              "      <td>38</td>\n",
              "      <td>Loja</td>\n",
              "      <td>Loja</td>\n",
              "      <td>D</td>\n",
              "      <td>4</td>\n",
              "    </tr>\n",
              "    <tr>\n",
              "      <th>38</th>\n",
              "      <td>39</td>\n",
              "      <td>Cuenca</td>\n",
              "      <td>Azuay</td>\n",
              "      <td>B</td>\n",
              "      <td>6</td>\n",
              "    </tr>\n",
              "    <tr>\n",
              "      <th>39</th>\n",
              "      <td>40</td>\n",
              "      <td>Machala</td>\n",
              "      <td>El Oro</td>\n",
              "      <td>C</td>\n",
              "      <td>3</td>\n",
              "    </tr>\n",
              "    <tr>\n",
              "      <th>40</th>\n",
              "      <td>41</td>\n",
              "      <td>Machala</td>\n",
              "      <td>El Oro</td>\n",
              "      <td>D</td>\n",
              "      <td>4</td>\n",
              "    </tr>\n",
              "    <tr>\n",
              "      <th>41</th>\n",
              "      <td>42</td>\n",
              "      <td>Cuenca</td>\n",
              "      <td>Azuay</td>\n",
              "      <td>D</td>\n",
              "      <td>2</td>\n",
              "    </tr>\n",
              "    <tr>\n",
              "      <th>42</th>\n",
              "      <td>43</td>\n",
              "      <td>Esmeraldas</td>\n",
              "      <td>Esmeraldas</td>\n",
              "      <td>E</td>\n",
              "      <td>10</td>\n",
              "    </tr>\n",
              "    <tr>\n",
              "      <th>43</th>\n",
              "      <td>44</td>\n",
              "      <td>Quito</td>\n",
              "      <td>Pichincha</td>\n",
              "      <td>A</td>\n",
              "      <td>5</td>\n",
              "    </tr>\n",
              "    <tr>\n",
              "      <th>44</th>\n",
              "      <td>45</td>\n",
              "      <td>Quito</td>\n",
              "      <td>Pichincha</td>\n",
              "      <td>A</td>\n",
              "      <td>11</td>\n",
              "    </tr>\n",
              "    <tr>\n",
              "      <th>45</th>\n",
              "      <td>46</td>\n",
              "      <td>Quito</td>\n",
              "      <td>Pichincha</td>\n",
              "      <td>A</td>\n",
              "      <td>14</td>\n",
              "    </tr>\n",
              "    <tr>\n",
              "      <th>46</th>\n",
              "      <td>47</td>\n",
              "      <td>Quito</td>\n",
              "      <td>Pichincha</td>\n",
              "      <td>A</td>\n",
              "      <td>14</td>\n",
              "    </tr>\n",
              "    <tr>\n",
              "      <th>47</th>\n",
              "      <td>48</td>\n",
              "      <td>Quito</td>\n",
              "      <td>Pichincha</td>\n",
              "      <td>A</td>\n",
              "      <td>14</td>\n",
              "    </tr>\n",
              "    <tr>\n",
              "      <th>48</th>\n",
              "      <td>49</td>\n",
              "      <td>Quito</td>\n",
              "      <td>Pichincha</td>\n",
              "      <td>A</td>\n",
              "      <td>11</td>\n",
              "    </tr>\n",
              "    <tr>\n",
              "      <th>49</th>\n",
              "      <td>50</td>\n",
              "      <td>Ambato</td>\n",
              "      <td>Tungurahua</td>\n",
              "      <td>A</td>\n",
              "      <td>14</td>\n",
              "    </tr>\n",
              "    <tr>\n",
              "      <th>50</th>\n",
              "      <td>51</td>\n",
              "      <td>Guayaquil</td>\n",
              "      <td>Guayas</td>\n",
              "      <td>A</td>\n",
              "      <td>17</td>\n",
              "    </tr>\n",
              "    <tr>\n",
              "      <th>51</th>\n",
              "      <td>52</td>\n",
              "      <td>Manta</td>\n",
              "      <td>Manabi</td>\n",
              "      <td>A</td>\n",
              "      <td>11</td>\n",
              "    </tr>\n",
              "    <tr>\n",
              "      <th>52</th>\n",
              "      <td>53</td>\n",
              "      <td>Manta</td>\n",
              "      <td>Manabi</td>\n",
              "      <td>D</td>\n",
              "      <td>13</td>\n",
              "    </tr>\n",
              "    <tr>\n",
              "      <th>53</th>\n",
              "      <td>54</td>\n",
              "      <td>El Carmen</td>\n",
              "      <td>Manabi</td>\n",
              "      <td>C</td>\n",
              "      <td>3</td>\n",
              "    </tr>\n",
              "  </tbody>\n",
              "</table>\n",
              "</div>"
            ],
            "text/plain": [
              "    store_nbr           city                           state type  cluster\n",
              "0           1          Quito                       Pichincha    D       13\n",
              "1           2          Quito                       Pichincha    D       13\n",
              "2           3          Quito                       Pichincha    D        8\n",
              "3           4          Quito                       Pichincha    D        9\n",
              "4           5  Santo Domingo  Santo Domingo de los Tsachilas    D        4\n",
              "5           6          Quito                       Pichincha    D       13\n",
              "6           7          Quito                       Pichincha    D        8\n",
              "7           8          Quito                       Pichincha    D        8\n",
              "8           9          Quito                       Pichincha    B        6\n",
              "9          10          Quito                       Pichincha    C       15\n",
              "10         11        Cayambe                       Pichincha    B        6\n",
              "11         12      Latacunga                        Cotopaxi    C       15\n",
              "12         13      Latacunga                        Cotopaxi    C       15\n",
              "13         14       Riobamba                      Chimborazo    C        7\n",
              "14         15         Ibarra                        Imbabura    C       15\n",
              "15         16  Santo Domingo  Santo Domingo de los Tsachilas    C        3\n",
              "16         17          Quito                       Pichincha    C       12\n",
              "17         18          Quito                       Pichincha    B       16\n",
              "18         19       Guaranda                         Bolivar    C       15\n",
              "19         20          Quito                       Pichincha    B        6\n",
              "20         21  Santo Domingo  Santo Domingo de los Tsachilas    B        6\n",
              "21         22           Puyo                         Pastaza    C        7\n",
              "22         23         Ambato                      Tungurahua    D        9\n",
              "23         24      Guayaquil                          Guayas    D        1\n",
              "24         25        Salinas                     Santa Elena    D        1\n",
              "25         26      Guayaquil                          Guayas    D       10\n",
              "26         27          Daule                          Guayas    D        1\n",
              "27         28      Guayaquil                          Guayas    E       10\n",
              "28         29      Guayaquil                          Guayas    E       10\n",
              "29         30      Guayaquil                          Guayas    C        3\n",
              "30         31       Babahoyo                        Los Rios    B       10\n",
              "31         32      Guayaquil                          Guayas    C        3\n",
              "32         33        Quevedo                        Los Rios    C        3\n",
              "33         34      Guayaquil                          Guayas    B        6\n",
              "34         35         Playas                          Guayas    C        3\n",
              "35         36       Libertad                          Guayas    E       10\n",
              "36         37         Cuenca                           Azuay    D        2\n",
              "37         38           Loja                            Loja    D        4\n",
              "38         39         Cuenca                           Azuay    B        6\n",
              "39         40        Machala                          El Oro    C        3\n",
              "40         41        Machala                          El Oro    D        4\n",
              "41         42         Cuenca                           Azuay    D        2\n",
              "42         43     Esmeraldas                      Esmeraldas    E       10\n",
              "43         44          Quito                       Pichincha    A        5\n",
              "44         45          Quito                       Pichincha    A       11\n",
              "45         46          Quito                       Pichincha    A       14\n",
              "46         47          Quito                       Pichincha    A       14\n",
              "47         48          Quito                       Pichincha    A       14\n",
              "48         49          Quito                       Pichincha    A       11\n",
              "49         50         Ambato                      Tungurahua    A       14\n",
              "50         51      Guayaquil                          Guayas    A       17\n",
              "51         52          Manta                          Manabi    A       11\n",
              "52         53          Manta                          Manabi    D       13\n",
              "53         54      El Carmen                          Manabi    C        3"
            ]
          },
          "execution_count": 218,
          "metadata": {},
          "output_type": "execute_result"
        }
      ],
      "source": [
        "# Viewing the table in the database \n",
        "train_3 = pd.read_sql(query, connection)\n",
        "train_3"
      ]
    },
    {
      "cell_type": "code",
      "execution_count": 219,
      "metadata": {},
      "outputs": [],
      "source": [
        "# Close the database connection\n",
        "connection.close()"
      ]
    },
    {
      "cell_type": "code",
      "execution_count": 220,
      "metadata": {},
      "outputs": [
        {
          "data": {
            "text/html": [
              "<div>\n",
              "<style scoped>\n",
              "    .dataframe tbody tr th:only-of-type {\n",
              "        vertical-align: middle;\n",
              "    }\n",
              "\n",
              "    .dataframe tbody tr th {\n",
              "        vertical-align: top;\n",
              "    }\n",
              "\n",
              "    .dataframe thead th {\n",
              "        text-align: right;\n",
              "    }\n",
              "</style>\n",
              "<table border=\"1\" class=\"dataframe\">\n",
              "  <thead>\n",
              "    <tr style=\"text-align: right;\">\n",
              "      <th></th>\n",
              "      <th>id</th>\n",
              "      <th>date</th>\n",
              "      <th>store_nbr</th>\n",
              "      <th>family</th>\n",
              "      <th>sales</th>\n",
              "      <th>onpromotion</th>\n",
              "    </tr>\n",
              "  </thead>\n",
              "  <tbody>\n",
              "    <tr>\n",
              "      <th>0</th>\n",
              "      <td>0</td>\n",
              "      <td>2013-01-01</td>\n",
              "      <td>1</td>\n",
              "      <td>AUTOMOTIVE</td>\n",
              "      <td>0.000</td>\n",
              "      <td>0</td>\n",
              "    </tr>\n",
              "    <tr>\n",
              "      <th>1</th>\n",
              "      <td>1</td>\n",
              "      <td>2013-01-01</td>\n",
              "      <td>1</td>\n",
              "      <td>BABY CARE</td>\n",
              "      <td>0.000</td>\n",
              "      <td>0</td>\n",
              "    </tr>\n",
              "    <tr>\n",
              "      <th>2</th>\n",
              "      <td>2</td>\n",
              "      <td>2013-01-01</td>\n",
              "      <td>1</td>\n",
              "      <td>BEAUTY</td>\n",
              "      <td>0.000</td>\n",
              "      <td>0</td>\n",
              "    </tr>\n",
              "    <tr>\n",
              "      <th>3</th>\n",
              "      <td>3</td>\n",
              "      <td>2013-01-01</td>\n",
              "      <td>1</td>\n",
              "      <td>BEVERAGES</td>\n",
              "      <td>0.000</td>\n",
              "      <td>0</td>\n",
              "    </tr>\n",
              "    <tr>\n",
              "      <th>4</th>\n",
              "      <td>4</td>\n",
              "      <td>2013-01-01</td>\n",
              "      <td>1</td>\n",
              "      <td>BOOKS</td>\n",
              "      <td>0.000</td>\n",
              "      <td>0</td>\n",
              "    </tr>\n",
              "    <tr>\n",
              "      <th>...</th>\n",
              "      <td>...</td>\n",
              "      <td>...</td>\n",
              "      <td>...</td>\n",
              "      <td>...</td>\n",
              "      <td>...</td>\n",
              "      <td>...</td>\n",
              "    </tr>\n",
              "    <tr>\n",
              "      <th>3000883</th>\n",
              "      <td>3000883</td>\n",
              "      <td>2017-08-15</td>\n",
              "      <td>9</td>\n",
              "      <td>POULTRY</td>\n",
              "      <td>438.133</td>\n",
              "      <td>0</td>\n",
              "    </tr>\n",
              "    <tr>\n",
              "      <th>3000884</th>\n",
              "      <td>3000884</td>\n",
              "      <td>2017-08-15</td>\n",
              "      <td>9</td>\n",
              "      <td>PREPARED FOODS</td>\n",
              "      <td>154.553</td>\n",
              "      <td>1</td>\n",
              "    </tr>\n",
              "    <tr>\n",
              "      <th>3000885</th>\n",
              "      <td>3000885</td>\n",
              "      <td>2017-08-15</td>\n",
              "      <td>9</td>\n",
              "      <td>PRODUCE</td>\n",
              "      <td>2419.729</td>\n",
              "      <td>148</td>\n",
              "    </tr>\n",
              "    <tr>\n",
              "      <th>3000886</th>\n",
              "      <td>3000886</td>\n",
              "      <td>2017-08-15</td>\n",
              "      <td>9</td>\n",
              "      <td>SCHOOL AND OFFICE SUPPLIES</td>\n",
              "      <td>121.000</td>\n",
              "      <td>8</td>\n",
              "    </tr>\n",
              "    <tr>\n",
              "      <th>3000887</th>\n",
              "      <td>3000887</td>\n",
              "      <td>2017-08-15</td>\n",
              "      <td>9</td>\n",
              "      <td>SEAFOOD</td>\n",
              "      <td>16.000</td>\n",
              "      <td>0</td>\n",
              "    </tr>\n",
              "  </tbody>\n",
              "</table>\n",
              "<p>3000888 rows × 6 columns</p>\n",
              "</div>"
            ],
            "text/plain": [
              "              id        date  store_nbr                      family     sales  \\\n",
              "0              0  2013-01-01          1                  AUTOMOTIVE     0.000   \n",
              "1              1  2013-01-01          1                   BABY CARE     0.000   \n",
              "2              2  2013-01-01          1                      BEAUTY     0.000   \n",
              "3              3  2013-01-01          1                   BEVERAGES     0.000   \n",
              "4              4  2013-01-01          1                       BOOKS     0.000   \n",
              "...          ...         ...        ...                         ...       ...   \n",
              "3000883  3000883  2017-08-15          9                     POULTRY   438.133   \n",
              "3000884  3000884  2017-08-15          9              PREPARED FOODS   154.553   \n",
              "3000885  3000885  2017-08-15          9                     PRODUCE  2419.729   \n",
              "3000886  3000886  2017-08-15          9  SCHOOL AND OFFICE SUPPLIES   121.000   \n",
              "3000887  3000887  2017-08-15          9                     SEAFOOD    16.000   \n",
              "\n",
              "         onpromotion  \n",
              "0                  0  \n",
              "1                  0  \n",
              "2                  0  \n",
              "3                  0  \n",
              "4                  0  \n",
              "...              ...  \n",
              "3000883            0  \n",
              "3000884            1  \n",
              "3000885          148  \n",
              "3000886            8  \n",
              "3000887            0  \n",
              "\n",
              "[3000888 rows x 6 columns]"
            ]
          },
          "execution_count": 220,
          "metadata": {},
          "output_type": "execute_result"
        }
      ],
      "source": [
        "# Read the remaining dataset in the csv file\n",
        "train_4 = pd.read_csv(r\"C:\\Users\\Safowaa\\Documents\\Azibiafrica\\AzubiPython\\The_Regression_Project\\Project_data\\train.csv\")\n",
        "train_4"
      ]
    },
    {
      "cell_type": "code",
      "execution_count": 221,
      "metadata": {},
      "outputs": [
        {
          "data": {
            "text/html": [
              "<div>\n",
              "<style scoped>\n",
              "    .dataframe tbody tr th:only-of-type {\n",
              "        vertical-align: middle;\n",
              "    }\n",
              "\n",
              "    .dataframe tbody tr th {\n",
              "        vertical-align: top;\n",
              "    }\n",
              "\n",
              "    .dataframe thead th {\n",
              "        text-align: right;\n",
              "    }\n",
              "</style>\n",
              "<table border=\"1\" class=\"dataframe\">\n",
              "  <thead>\n",
              "    <tr style=\"text-align: right;\">\n",
              "      <th></th>\n",
              "      <th>date</th>\n",
              "      <th>store_nbr</th>\n",
              "      <th>transactions</th>\n",
              "    </tr>\n",
              "  </thead>\n",
              "  <tbody>\n",
              "    <tr>\n",
              "      <th>0</th>\n",
              "      <td>2013-01-01</td>\n",
              "      <td>25</td>\n",
              "      <td>770</td>\n",
              "    </tr>\n",
              "    <tr>\n",
              "      <th>1</th>\n",
              "      <td>2013-01-02</td>\n",
              "      <td>1</td>\n",
              "      <td>2111</td>\n",
              "    </tr>\n",
              "    <tr>\n",
              "      <th>2</th>\n",
              "      <td>2013-01-02</td>\n",
              "      <td>2</td>\n",
              "      <td>2358</td>\n",
              "    </tr>\n",
              "    <tr>\n",
              "      <th>3</th>\n",
              "      <td>2013-01-02</td>\n",
              "      <td>3</td>\n",
              "      <td>3487</td>\n",
              "    </tr>\n",
              "    <tr>\n",
              "      <th>4</th>\n",
              "      <td>2013-01-02</td>\n",
              "      <td>4</td>\n",
              "      <td>1922</td>\n",
              "    </tr>\n",
              "    <tr>\n",
              "      <th>...</th>\n",
              "      <td>...</td>\n",
              "      <td>...</td>\n",
              "      <td>...</td>\n",
              "    </tr>\n",
              "    <tr>\n",
              "      <th>83483</th>\n",
              "      <td>2017-08-15</td>\n",
              "      <td>50</td>\n",
              "      <td>2804</td>\n",
              "    </tr>\n",
              "    <tr>\n",
              "      <th>83484</th>\n",
              "      <td>2017-08-15</td>\n",
              "      <td>51</td>\n",
              "      <td>1573</td>\n",
              "    </tr>\n",
              "    <tr>\n",
              "      <th>83485</th>\n",
              "      <td>2017-08-15</td>\n",
              "      <td>52</td>\n",
              "      <td>2255</td>\n",
              "    </tr>\n",
              "    <tr>\n",
              "      <th>83486</th>\n",
              "      <td>2017-08-15</td>\n",
              "      <td>53</td>\n",
              "      <td>932</td>\n",
              "    </tr>\n",
              "    <tr>\n",
              "      <th>83487</th>\n",
              "      <td>2017-08-15</td>\n",
              "      <td>54</td>\n",
              "      <td>802</td>\n",
              "    </tr>\n",
              "  </tbody>\n",
              "</table>\n",
              "<p>83488 rows × 3 columns</p>\n",
              "</div>"
            ],
            "text/plain": [
              "             date  store_nbr  transactions\n",
              "0      2013-01-01         25           770\n",
              "1      2013-01-02          1          2111\n",
              "2      2013-01-02          2          2358\n",
              "3      2013-01-02          3          3487\n",
              "4      2013-01-02          4          1922\n",
              "...           ...        ...           ...\n",
              "83483  2017-08-15         50          2804\n",
              "83484  2017-08-15         51          1573\n",
              "83485  2017-08-15         52          2255\n",
              "83486  2017-08-15         53           932\n",
              "83487  2017-08-15         54           802\n",
              "\n",
              "[83488 rows x 3 columns]"
            ]
          },
          "execution_count": 221,
          "metadata": {},
          "output_type": "execute_result"
        }
      ],
      "source": [
        "# Read the remaining dataset in the csv file\n",
        "train_5 = pd.read_csv(r\"C:\\Users\\Safowaa\\Documents\\Azibiafrica\\AzubiPython\\The_Regression_Project\\Project_data\\transactions.csv\")\n",
        "train_5"
      ]
    },
    {
      "cell_type": "code",
      "execution_count": 222,
      "metadata": {},
      "outputs": [
        {
          "data": {
            "text/html": [
              "<div>\n",
              "<style scoped>\n",
              "    .dataframe tbody tr th:only-of-type {\n",
              "        vertical-align: middle;\n",
              "    }\n",
              "\n",
              "    .dataframe tbody tr th {\n",
              "        vertical-align: top;\n",
              "    }\n",
              "\n",
              "    .dataframe thead th {\n",
              "        text-align: right;\n",
              "    }\n",
              "</style>\n",
              "<table border=\"1\" class=\"dataframe\">\n",
              "  <thead>\n",
              "    <tr style=\"text-align: right;\">\n",
              "      <th></th>\n",
              "      <th>id</th>\n",
              "      <th>date</th>\n",
              "      <th>store_nbr</th>\n",
              "      <th>family</th>\n",
              "      <th>onpromotion</th>\n",
              "    </tr>\n",
              "  </thead>\n",
              "  <tbody>\n",
              "    <tr>\n",
              "      <th>0</th>\n",
              "      <td>3000888</td>\n",
              "      <td>2017-08-16</td>\n",
              "      <td>1</td>\n",
              "      <td>AUTOMOTIVE</td>\n",
              "      <td>0</td>\n",
              "    </tr>\n",
              "    <tr>\n",
              "      <th>1</th>\n",
              "      <td>3000889</td>\n",
              "      <td>2017-08-16</td>\n",
              "      <td>1</td>\n",
              "      <td>BABY CARE</td>\n",
              "      <td>0</td>\n",
              "    </tr>\n",
              "    <tr>\n",
              "      <th>2</th>\n",
              "      <td>3000890</td>\n",
              "      <td>2017-08-16</td>\n",
              "      <td>1</td>\n",
              "      <td>BEAUTY</td>\n",
              "      <td>2</td>\n",
              "    </tr>\n",
              "    <tr>\n",
              "      <th>3</th>\n",
              "      <td>3000891</td>\n",
              "      <td>2017-08-16</td>\n",
              "      <td>1</td>\n",
              "      <td>BEVERAGES</td>\n",
              "      <td>20</td>\n",
              "    </tr>\n",
              "    <tr>\n",
              "      <th>4</th>\n",
              "      <td>3000892</td>\n",
              "      <td>2017-08-16</td>\n",
              "      <td>1</td>\n",
              "      <td>BOOKS</td>\n",
              "      <td>0</td>\n",
              "    </tr>\n",
              "    <tr>\n",
              "      <th>...</th>\n",
              "      <td>...</td>\n",
              "      <td>...</td>\n",
              "      <td>...</td>\n",
              "      <td>...</td>\n",
              "      <td>...</td>\n",
              "    </tr>\n",
              "    <tr>\n",
              "      <th>28507</th>\n",
              "      <td>3029395</td>\n",
              "      <td>2017-08-31</td>\n",
              "      <td>9</td>\n",
              "      <td>POULTRY</td>\n",
              "      <td>1</td>\n",
              "    </tr>\n",
              "    <tr>\n",
              "      <th>28508</th>\n",
              "      <td>3029396</td>\n",
              "      <td>2017-08-31</td>\n",
              "      <td>9</td>\n",
              "      <td>PREPARED FOODS</td>\n",
              "      <td>0</td>\n",
              "    </tr>\n",
              "    <tr>\n",
              "      <th>28509</th>\n",
              "      <td>3029397</td>\n",
              "      <td>2017-08-31</td>\n",
              "      <td>9</td>\n",
              "      <td>PRODUCE</td>\n",
              "      <td>1</td>\n",
              "    </tr>\n",
              "    <tr>\n",
              "      <th>28510</th>\n",
              "      <td>3029398</td>\n",
              "      <td>2017-08-31</td>\n",
              "      <td>9</td>\n",
              "      <td>SCHOOL AND OFFICE SUPPLIES</td>\n",
              "      <td>9</td>\n",
              "    </tr>\n",
              "    <tr>\n",
              "      <th>28511</th>\n",
              "      <td>3029399</td>\n",
              "      <td>2017-08-31</td>\n",
              "      <td>9</td>\n",
              "      <td>SEAFOOD</td>\n",
              "      <td>0</td>\n",
              "    </tr>\n",
              "  </tbody>\n",
              "</table>\n",
              "<p>28512 rows × 5 columns</p>\n",
              "</div>"
            ],
            "text/plain": [
              "            id        date  store_nbr                      family  onpromotion\n",
              "0      3000888  2017-08-16          1                  AUTOMOTIVE            0\n",
              "1      3000889  2017-08-16          1                   BABY CARE            0\n",
              "2      3000890  2017-08-16          1                      BEAUTY            2\n",
              "3      3000891  2017-08-16          1                   BEVERAGES           20\n",
              "4      3000892  2017-08-16          1                       BOOKS            0\n",
              "...        ...         ...        ...                         ...          ...\n",
              "28507  3029395  2017-08-31          9                     POULTRY            1\n",
              "28508  3029396  2017-08-31          9              PREPARED FOODS            0\n",
              "28509  3029397  2017-08-31          9                     PRODUCE            1\n",
              "28510  3029398  2017-08-31          9  SCHOOL AND OFFICE SUPPLIES            9\n",
              "28511  3029399  2017-08-31          9                     SEAFOOD            0\n",
              "\n",
              "[28512 rows x 5 columns]"
            ]
          },
          "execution_count": 222,
          "metadata": {},
          "output_type": "execute_result"
        }
      ],
      "source": [
        "# Read the remaining dataset in the csv file\n",
        "train_6 = pd.read_csv(r\"C:\\Users\\Safowaa\\Documents\\Azibiafrica\\AzubiPython\\The_Regression_Project\\Project_data\\test.csv\")\n",
        "train_6"
      ]
    },
    {
      "cell_type": "code",
      "execution_count": 223,
      "metadata": {},
      "outputs": [
        {
          "data": {
            "text/html": [
              "<div>\n",
              "<style scoped>\n",
              "    .dataframe tbody tr th:only-of-type {\n",
              "        vertical-align: middle;\n",
              "    }\n",
              "\n",
              "    .dataframe tbody tr th {\n",
              "        vertical-align: top;\n",
              "    }\n",
              "\n",
              "    .dataframe thead th {\n",
              "        text-align: right;\n",
              "    }\n",
              "</style>\n",
              "<table border=\"1\" class=\"dataframe\">\n",
              "  <thead>\n",
              "    <tr style=\"text-align: right;\">\n",
              "      <th></th>\n",
              "      <th>id</th>\n",
              "      <th>date</th>\n",
              "      <th>store_nbr</th>\n",
              "      <th>family</th>\n",
              "      <th>onpromotion</th>\n",
              "    </tr>\n",
              "  </thead>\n",
              "  <tbody>\n",
              "    <tr>\n",
              "      <th>0</th>\n",
              "      <td>3000888</td>\n",
              "      <td>2017-08-16</td>\n",
              "      <td>1</td>\n",
              "      <td>AUTOMOTIVE</td>\n",
              "      <td>0</td>\n",
              "    </tr>\n",
              "    <tr>\n",
              "      <th>1</th>\n",
              "      <td>3000889</td>\n",
              "      <td>2017-08-16</td>\n",
              "      <td>1</td>\n",
              "      <td>BABY CARE</td>\n",
              "      <td>0</td>\n",
              "    </tr>\n",
              "    <tr>\n",
              "      <th>2</th>\n",
              "      <td>3000890</td>\n",
              "      <td>2017-08-16</td>\n",
              "      <td>1</td>\n",
              "      <td>BEAUTY</td>\n",
              "      <td>2</td>\n",
              "    </tr>\n",
              "    <tr>\n",
              "      <th>3</th>\n",
              "      <td>3000891</td>\n",
              "      <td>2017-08-16</td>\n",
              "      <td>1</td>\n",
              "      <td>BEVERAGES</td>\n",
              "      <td>20</td>\n",
              "    </tr>\n",
              "    <tr>\n",
              "      <th>4</th>\n",
              "      <td>3000892</td>\n",
              "      <td>2017-08-16</td>\n",
              "      <td>1</td>\n",
              "      <td>BOOKS</td>\n",
              "      <td>0</td>\n",
              "    </tr>\n",
              "    <tr>\n",
              "      <th>...</th>\n",
              "      <td>...</td>\n",
              "      <td>...</td>\n",
              "      <td>...</td>\n",
              "      <td>...</td>\n",
              "      <td>...</td>\n",
              "    </tr>\n",
              "    <tr>\n",
              "      <th>28507</th>\n",
              "      <td>3029395</td>\n",
              "      <td>2017-08-31</td>\n",
              "      <td>9</td>\n",
              "      <td>POULTRY</td>\n",
              "      <td>1</td>\n",
              "    </tr>\n",
              "    <tr>\n",
              "      <th>28508</th>\n",
              "      <td>3029396</td>\n",
              "      <td>2017-08-31</td>\n",
              "      <td>9</td>\n",
              "      <td>PREPARED FOODS</td>\n",
              "      <td>0</td>\n",
              "    </tr>\n",
              "    <tr>\n",
              "      <th>28509</th>\n",
              "      <td>3029397</td>\n",
              "      <td>2017-08-31</td>\n",
              "      <td>9</td>\n",
              "      <td>PRODUCE</td>\n",
              "      <td>1</td>\n",
              "    </tr>\n",
              "    <tr>\n",
              "      <th>28510</th>\n",
              "      <td>3029398</td>\n",
              "      <td>2017-08-31</td>\n",
              "      <td>9</td>\n",
              "      <td>SCHOOL AND OFFICE SUPPLIES</td>\n",
              "      <td>9</td>\n",
              "    </tr>\n",
              "    <tr>\n",
              "      <th>28511</th>\n",
              "      <td>3029399</td>\n",
              "      <td>2017-08-31</td>\n",
              "      <td>9</td>\n",
              "      <td>SEAFOOD</td>\n",
              "      <td>0</td>\n",
              "    </tr>\n",
              "  </tbody>\n",
              "</table>\n",
              "<p>28512 rows × 5 columns</p>\n",
              "</div>"
            ],
            "text/plain": [
              "            id        date  store_nbr                      family  onpromotion\n",
              "0      3000888  2017-08-16          1                  AUTOMOTIVE            0\n",
              "1      3000889  2017-08-16          1                   BABY CARE            0\n",
              "2      3000890  2017-08-16          1                      BEAUTY            2\n",
              "3      3000891  2017-08-16          1                   BEVERAGES           20\n",
              "4      3000892  2017-08-16          1                       BOOKS            0\n",
              "...        ...         ...        ...                         ...          ...\n",
              "28507  3029395  2017-08-31          9                     POULTRY            1\n",
              "28508  3029396  2017-08-31          9              PREPARED FOODS            0\n",
              "28509  3029397  2017-08-31          9                     PRODUCE            1\n",
              "28510  3029398  2017-08-31          9  SCHOOL AND OFFICE SUPPLIES            9\n",
              "28511  3029399  2017-08-31          9                     SEAFOOD            0\n",
              "\n",
              "[28512 rows x 5 columns]"
            ]
          },
          "execution_count": 223,
          "metadata": {},
          "output_type": "execute_result"
        }
      ],
      "source": [
        "# Read the remaining dataset in the csv file\n",
        "train_7 = pd.read_csv(r\"C:\\Users\\Safowaa\\Documents\\Azibiafrica\\AzubiPython\\The_Regression_Project\\Project_data\\test.csv\")\n",
        "train_7 "
      ]
    },
    {
      "cell_type": "markdown",
      "metadata": {},
      "source": [
        "`Merge Data`"
      ]
    },
    {
      "cell_type": "code",
      "execution_count": 224,
      "metadata": {},
      "outputs": [],
      "source": [
        "# # Concatenate all the DataFrames\n",
        "# train_data = pd.concat([train_1, train_2, train_3, train_4, train_5], ignore_index=True)\n",
        "\n",
        "# # Save the concatenated DataFrame to a CSV file\n",
        "# train_data.to_csv(\"train_data.csv\", index=False)\n",
        "\n",
        "# train_data.to_csv(r\"C:\\Users\\Safowaa\\Documents\\Azibiafrica\\AzubiPython\\The_Regression_Project\\Dataset\\train_data.csv\", index=False)"
      ]
    },
    {
      "cell_type": "markdown",
      "metadata": {
        "id": "okaZxnc3fRId"
      },
      "source": [
        "## Exploratory Data Analysis: EDA"
      ]
    },
    {
      "cell_type": "code",
      "execution_count": 225,
      "metadata": {},
      "outputs": [
        {
          "name": "stdout",
          "output_type": "stream",
          "text": [
            "<class 'pandas.core.frame.DataFrame'>\n",
            "RangeIndex: 1218 entries, 0 to 1217\n",
            "Data columns (total 2 columns):\n",
            " #   Column      Non-Null Count  Dtype  \n",
            "---  ------      --------------  -----  \n",
            " 0   date        1218 non-null   object \n",
            " 1   dcoilwtico  1175 non-null   float64\n",
            "dtypes: float64(1), object(1)\n",
            "memory usage: 19.2+ KB\n"
          ]
        }
      ],
      "source": [
        "# Check the datatypes and number of columns\n",
        "train_1.info()"
      ]
    },
    {
      "cell_type": "code",
      "execution_count": 226,
      "metadata": {},
      "outputs": [
        {
          "name": "stdout",
          "output_type": "stream",
          "text": [
            "<class 'pandas.core.frame.DataFrame'>\n",
            "RangeIndex: 350 entries, 0 to 349\n",
            "Data columns (total 6 columns):\n",
            " #   Column       Non-Null Count  Dtype \n",
            "---  ------       --------------  ----- \n",
            " 0   date         350 non-null    object\n",
            " 1   type         350 non-null    object\n",
            " 2   locale       350 non-null    object\n",
            " 3   locale_name  350 non-null    object\n",
            " 4   description  350 non-null    object\n",
            " 5   transferred  350 non-null    bool  \n",
            "dtypes: bool(1), object(5)\n",
            "memory usage: 14.1+ KB\n"
          ]
        }
      ],
      "source": [
        "# Check the datatypes and number of columns\n",
        "\n",
        "train_2.info()"
      ]
    },
    {
      "cell_type": "code",
      "execution_count": 227,
      "metadata": {},
      "outputs": [
        {
          "name": "stdout",
          "output_type": "stream",
          "text": [
            "<class 'pandas.core.frame.DataFrame'>\n",
            "RangeIndex: 54 entries, 0 to 53\n",
            "Data columns (total 5 columns):\n",
            " #   Column     Non-Null Count  Dtype \n",
            "---  ------     --------------  ----- \n",
            " 0   store_nbr  54 non-null     int64 \n",
            " 1   city       54 non-null     object\n",
            " 2   state      54 non-null     object\n",
            " 3   type       54 non-null     object\n",
            " 4   cluster    54 non-null     int64 \n",
            "dtypes: int64(2), object(3)\n",
            "memory usage: 2.2+ KB\n"
          ]
        }
      ],
      "source": [
        "# Check the datatypes and number of columns\n",
        "\n",
        "train_3.info()"
      ]
    },
    {
      "cell_type": "code",
      "execution_count": 228,
      "metadata": {},
      "outputs": [
        {
          "name": "stdout",
          "output_type": "stream",
          "text": [
            "<class 'pandas.core.frame.DataFrame'>\n",
            "RangeIndex: 3000888 entries, 0 to 3000887\n",
            "Data columns (total 6 columns):\n",
            " #   Column       Dtype  \n",
            "---  ------       -----  \n",
            " 0   id           int64  \n",
            " 1   date         object \n",
            " 2   store_nbr    int64  \n",
            " 3   family       object \n",
            " 4   sales        float64\n",
            " 5   onpromotion  int64  \n",
            "dtypes: float64(1), int64(3), object(2)\n",
            "memory usage: 137.4+ MB\n"
          ]
        }
      ],
      "source": [
        "#  check the datatypes and number of columns\n",
        "\n",
        "train_4.info()"
      ]
    },
    {
      "cell_type": "code",
      "execution_count": 229,
      "metadata": {},
      "outputs": [
        {
          "name": "stdout",
          "output_type": "stream",
          "text": [
            "<class 'pandas.core.frame.DataFrame'>\n",
            "RangeIndex: 83488 entries, 0 to 83487\n",
            "Data columns (total 3 columns):\n",
            " #   Column        Non-Null Count  Dtype \n",
            "---  ------        --------------  ----- \n",
            " 0   date          83488 non-null  object\n",
            " 1   store_nbr     83488 non-null  int64 \n",
            " 2   transactions  83488 non-null  int64 \n",
            "dtypes: int64(2), object(1)\n",
            "memory usage: 1.9+ MB\n"
          ]
        }
      ],
      "source": [
        "# Check the datatypes and number of columns\n",
        "\n",
        "train_5.info()"
      ]
    },
    {
      "cell_type": "code",
      "execution_count": 230,
      "metadata": {},
      "outputs": [
        {
          "name": "stdout",
          "output_type": "stream",
          "text": [
            "<class 'pandas.core.frame.DataFrame'>\n",
            "RangeIndex: 28512 entries, 0 to 28511\n",
            "Data columns (total 5 columns):\n",
            " #   Column       Non-Null Count  Dtype \n",
            "---  ------       --------------  ----- \n",
            " 0   id           28512 non-null  int64 \n",
            " 1   date         28512 non-null  object\n",
            " 2   store_nbr    28512 non-null  int64 \n",
            " 3   family       28512 non-null  object\n",
            " 4   onpromotion  28512 non-null  int64 \n",
            "dtypes: int64(3), object(2)\n",
            "memory usage: 1.1+ MB\n"
          ]
        }
      ],
      "source": [
        "# check the datatypes and number of columns\n",
        "\n",
        "train_6.info()"
      ]
    },
    {
      "cell_type": "code",
      "execution_count": 231,
      "metadata": {},
      "outputs": [
        {
          "name": "stdout",
          "output_type": "stream",
          "text": [
            "<class 'pandas.core.frame.DataFrame'>\n",
            "RangeIndex: 28512 entries, 0 to 28511\n",
            "Data columns (total 5 columns):\n",
            " #   Column       Non-Null Count  Dtype \n",
            "---  ------       --------------  ----- \n",
            " 0   id           28512 non-null  int64 \n",
            " 1   date         28512 non-null  object\n",
            " 2   store_nbr    28512 non-null  int64 \n",
            " 3   family       28512 non-null  object\n",
            " 4   onpromotion  28512 non-null  int64 \n",
            "dtypes: int64(3), object(2)\n",
            "memory usage: 1.1+ MB\n"
          ]
        }
      ],
      "source": [
        "# Check the datatypes and number of columns \n",
        "\n",
        "train_7.info()"
      ]
    },
    {
      "cell_type": "code",
      "execution_count": 232,
      "metadata": {},
      "outputs": [
        {
          "name": "stdout",
          "output_type": "stream",
          "text": [
            "<class 'pandas.core.frame.DataFrame'>\n",
            "RangeIndex: 1218 entries, 0 to 1217\n",
            "Data columns (total 2 columns):\n",
            " #   Column      Non-Null Count  Dtype         \n",
            "---  ------      --------------  -----         \n",
            " 0   date        1218 non-null   datetime64[ns]\n",
            " 1   dcoilwtico  1175 non-null   float64       \n",
            "dtypes: datetime64[ns](1), float64(1)\n",
            "memory usage: 19.2 KB\n"
          ]
        }
      ],
      "source": [
        "#  Change the datatype of the \"date\" column\n",
        "\n",
        "train_1['date'] = pd.to_datetime(train_1['date'])\n",
        "train_1.info()"
      ]
    },
    {
      "cell_type": "code",
      "execution_count": 233,
      "metadata": {},
      "outputs": [
        {
          "name": "stdout",
          "output_type": "stream",
          "text": [
            "<class 'pandas.core.frame.DataFrame'>\n",
            "RangeIndex: 350 entries, 0 to 349\n",
            "Data columns (total 6 columns):\n",
            " #   Column       Non-Null Count  Dtype         \n",
            "---  ------       --------------  -----         \n",
            " 0   date         350 non-null    datetime64[ns]\n",
            " 1   type         350 non-null    object        \n",
            " 2   locale       350 non-null    object        \n",
            " 3   locale_name  350 non-null    object        \n",
            " 4   description  350 non-null    object        \n",
            " 5   transferred  350 non-null    bool          \n",
            "dtypes: bool(1), datetime64[ns](1), object(4)\n",
            "memory usage: 14.1+ KB\n"
          ]
        }
      ],
      "source": [
        "# Change the datatypes of the \"date\" column\n",
        "\n",
        "train_2['date'] = pd.to_datetime(train_2['date'])\n",
        "train_2.info()"
      ]
    },
    {
      "cell_type": "code",
      "execution_count": 234,
      "metadata": {},
      "outputs": [
        {
          "name": "stdout",
          "output_type": "stream",
          "text": [
            "<class 'pandas.core.frame.DataFrame'>\n",
            "RangeIndex: 3000888 entries, 0 to 3000887\n",
            "Data columns (total 6 columns):\n",
            " #   Column       Dtype         \n",
            "---  ------       -----         \n",
            " 0   id           int64         \n",
            " 1   date         datetime64[ns]\n",
            " 2   store_nbr    int64         \n",
            " 3   family       object        \n",
            " 4   sales        float64       \n",
            " 5   onpromotion  int64         \n",
            "dtypes: datetime64[ns](1), float64(1), int64(3), object(1)\n",
            "memory usage: 137.4+ MB\n"
          ]
        }
      ],
      "source": [
        "#  Change the datatype for the \"date\" column \n",
        "\n",
        "train_4['date'] = pd.to_datetime(train_4['date'])\n",
        "train_4.info()"
      ]
    },
    {
      "cell_type": "code",
      "execution_count": 235,
      "metadata": {},
      "outputs": [
        {
          "name": "stdout",
          "output_type": "stream",
          "text": [
            "<class 'pandas.core.frame.DataFrame'>\n",
            "RangeIndex: 83488 entries, 0 to 83487\n",
            "Data columns (total 3 columns):\n",
            " #   Column        Non-Null Count  Dtype         \n",
            "---  ------        --------------  -----         \n",
            " 0   date          83488 non-null  datetime64[ns]\n",
            " 1   store_nbr     83488 non-null  int64         \n",
            " 2   transactions  83488 non-null  int64         \n",
            "dtypes: datetime64[ns](1), int64(2)\n",
            "memory usage: 1.9 MB\n"
          ]
        }
      ],
      "source": [
        "# Change the datatype of the \"date\" column\n",
        "\n",
        "train_5['date'] = pd.to_datetime(train_5['date'])\n",
        "train_5.info()"
      ]
    },
    {
      "cell_type": "code",
      "execution_count": 236,
      "metadata": {},
      "outputs": [
        {
          "name": "stdout",
          "output_type": "stream",
          "text": [
            "<class 'pandas.core.frame.DataFrame'>\n",
            "RangeIndex: 28512 entries, 0 to 28511\n",
            "Data columns (total 5 columns):\n",
            " #   Column       Non-Null Count  Dtype         \n",
            "---  ------       --------------  -----         \n",
            " 0   id           28512 non-null  int64         \n",
            " 1   date         28512 non-null  datetime64[ns]\n",
            " 2   store_nbr    28512 non-null  int64         \n",
            " 3   family       28512 non-null  object        \n",
            " 4   onpromotion  28512 non-null  int64         \n",
            "dtypes: datetime64[ns](1), int64(3), object(1)\n",
            "memory usage: 1.1+ MB\n"
          ]
        }
      ],
      "source": [
        "# Change the datatype of the \"date\" column\n",
        "\n",
        "train_7['date'] = pd.to_datetime(train_7['date'])\n",
        "train_7.info()"
      ]
    },
    {
      "cell_type": "code",
      "execution_count": 237,
      "metadata": {},
      "outputs": [],
      "source": [
        "# Create a copy of the original Dataframe to preserve the orginal data\n",
        "\n",
        "train_4_copy = train_4.copy()\n",
        "\n",
        "# Break the date column into day, month, week, year\n",
        "\n",
        "train_4_copy['day'] = train_4_copy['date'].dt.day\n",
        "train_4_copy['month'] = train_4_copy['date'].dt.month\n",
        "train_4_copy['week'] = train_4_copy['date'].dt.isocalendar().week.astype(int)\n",
        "train_4_copy['year'] = train_4_copy['date'].dt.year"
      ]
    },
    {
      "cell_type": "code",
      "execution_count": 238,
      "metadata": {},
      "outputs": [
        {
          "name": "stdout",
          "output_type": "stream",
          "text": [
            "Proportion of missing values in train_1 dataset:\n",
            "date          0.00\n",
            "dcoilwtico    3.53\n",
            "dtype: float64\n",
            "\n",
            "Number of duplicated rows in train_1 dataset: 0\n",
            "\n",
            "--------------------------------------------------\n",
            "\n",
            "Proportion of missing values in train_2 dataset:\n",
            "date           0.0\n",
            "type           0.0\n",
            "locale         0.0\n",
            "locale_name    0.0\n",
            "description    0.0\n",
            "transferred    0.0\n",
            "dtype: float64\n",
            "\n",
            "Number of duplicated rows in train_2 dataset: 0\n",
            "\n",
            "--------------------------------------------------\n",
            "\n",
            "Proportion of missing values in train_3 dataset:\n",
            "store_nbr    0.0\n",
            "city         0.0\n",
            "state        0.0\n",
            "type         0.0\n",
            "cluster      0.0\n",
            "dtype: float64\n",
            "\n",
            "Number of duplicated rows in train_3 dataset: 0\n",
            "\n",
            "--------------------------------------------------\n",
            "\n",
            "Proportion of missing values in train_5 dataset:\n",
            "date            0.0\n",
            "store_nbr       0.0\n",
            "transactions    0.0\n",
            "dtype: float64\n",
            "\n",
            "Number of duplicated rows in train_5 dataset: 0\n",
            "\n",
            "--------------------------------------------------\n",
            "\n",
            "Proportion of missing values in train_6 dataset:\n",
            "id             0.0\n",
            "date           0.0\n",
            "store_nbr      0.0\n",
            "family         0.0\n",
            "onpromotion    0.0\n",
            "dtype: float64\n",
            "\n",
            "Number of duplicated rows in train_6 dataset: 0\n",
            "\n",
            "--------------------------------------------------\n",
            "\n",
            "Proportion of missing values in train_7 dataset:\n",
            "id             0.0\n",
            "date           0.0\n",
            "store_nbr      0.0\n",
            "family         0.0\n",
            "onpromotion    0.0\n",
            "dtype: float64\n",
            "\n",
            "Number of duplicated rows in train_7 dataset: 0\n",
            "\n",
            "--------------------------------------------------\n",
            "\n",
            "Proportion of missing values in train_4_copy dataset:\n",
            "id             0.0\n",
            "date           0.0\n",
            "store_nbr      0.0\n",
            "family         0.0\n",
            "sales          0.0\n",
            "onpromotion    0.0\n",
            "day            0.0\n",
            "month          0.0\n",
            "week           0.0\n",
            "year           0.0\n",
            "dtype: float64\n",
            "\n",
            "Number of duplicated rows in train_4_copy dataset: 0\n",
            "\n",
            "--------------------------------------------------\n",
            "\n"
          ]
        }
      ],
      "source": [
        "# Create a dictionary of the dataframes to process\n",
        "dataframes = {\n",
        "    \"train_1\": train_1,\n",
        "    \"train_2\": train_2,\n",
        "    \"train_3\": train_3,\n",
        "    \"train_5\": train_5,\n",
        "    \"train_6\": train_6,\n",
        "    \"train_7\": train_7,\n",
        "    \"train_4_copy\": train_4_copy,\n",
        "    }\n",
        "\n",
        "# Loop through each dataframe in the dictionary\n",
        "for name, tr in dataframes.items():\n",
        "    # Determine the proportion of missing values\n",
        "    missing_percentage = (tr.isnull().mean() * 100).round(2)\n",
        "\n",
        "    # Check for duplicated values\n",
        "    duplicate_num = tr.duplicated(subset=None, keep=False).sum()\n",
        "\n",
        "    # Display duplicated rows if any\n",
        "    duplicated_rows = tr[tr.duplicated(subset=None, keep=False)]\n",
        "\n",
        "    # Display Results\n",
        "    print(f\"Proportion of missing values in {name} dataset:\")\n",
        "    print(missing_percentage)\n",
        "    print(f\"\\nNumber of duplicated rows in {name} dataset: {duplicate_num}\")\n",
        "    if duplicate_num > 0:\n",
        "        print(f\"\\nDuplicated rows in the {name} dataset:\")\n",
        "        print(duplicated_rows)\n",
        "    print(\"\\n\" + \"-\"*50 + \"\\n\")"
      ]
    },
    {
      "cell_type": "code",
      "execution_count": 252,
      "metadata": {},
      "outputs": [
        {
          "data": {
            "text/plain": [
              "Index(['id', 'date', 'store_nbr', 'family', 'sales', 'onpromotion', 'day',\n",
              "       'month', 'week', 'year'],\n",
              "      dtype='object')"
            ]
          },
          "execution_count": 252,
          "metadata": {},
          "output_type": "execute_result"
        }
      ],
      "source": [
        "# View columns in train_4_copy\n",
        "\n",
        "train_4_copy.columns"
      ]
    },
    {
      "cell_type": "code",
      "execution_count": 254,
      "metadata": {},
      "outputs": [
        {
          "name": "stdout",
          "output_type": "stream",
          "text": [
            "id: [      0       1       2 ... 3000885 3000886 3000887]\n",
            "date: <DatetimeArray>\n",
            "['2013-01-01 00:00:00', '2013-01-02 00:00:00', '2013-01-03 00:00:00',\n",
            " '2013-01-04 00:00:00', '2013-01-05 00:00:00', '2013-01-06 00:00:00',\n",
            " '2013-01-07 00:00:00', '2013-01-08 00:00:00', '2013-01-09 00:00:00',\n",
            " '2013-01-10 00:00:00',\n",
            " ...\n",
            " '2017-08-06 00:00:00', '2017-08-07 00:00:00', '2017-08-08 00:00:00',\n",
            " '2017-08-09 00:00:00', '2017-08-10 00:00:00', '2017-08-11 00:00:00',\n",
            " '2017-08-12 00:00:00', '2017-08-13 00:00:00', '2017-08-14 00:00:00',\n",
            " '2017-08-15 00:00:00']\n",
            "Length: 1684, dtype: datetime64[ns]\n",
            "store_nbr: [ 1 10 11 12 13 14 15 16 17 18 19  2 20 21 22 23 24 25 26 27 28 29  3 30\n",
            " 31 32 33 34 35 36 37 38 39  4 40 41 42 43 44 45 46 47 48 49  5 50 51 52\n",
            " 53 54  6  7  8  9]\n",
            "family: ['AUTOMOTIVE' 'BABY CARE' 'BEAUTY' 'BEVERAGES' 'BOOKS' 'BREAD/BAKERY'\n",
            " 'CELEBRATION' 'CLEANING' 'DAIRY' 'DELI' 'EGGS' 'FROZEN FOODS' 'GROCERY I'\n",
            " 'GROCERY II' 'HARDWARE' 'HOME AND KITCHEN I' 'HOME AND KITCHEN II'\n",
            " 'HOME APPLIANCES' 'HOME CARE' 'LADIESWEAR' 'LAWN AND GARDEN' 'LINGERIE'\n",
            " 'LIQUOR,WINE,BEER' 'MAGAZINES' 'MEATS' 'PERSONAL CARE' 'PET SUPPLIES'\n",
            " 'PLAYERS AND ELECTRONICS' 'POULTRY' 'PREPARED FOODS' 'PRODUCE'\n",
            " 'SCHOOL AND OFFICE SUPPLIES' 'SEAFOOD']\n",
            "sales: [0.000000e+00 2.000000e+00 8.100000e+02 ... 4.381330e+02 1.545530e+02\n",
            " 2.419729e+03]\n",
            "onpromotion: [  0   3   5   1  56  20  19   2   4  18  17  12   6   7  10   9  50   8\n",
            "  16  42  51  13  15  47  21  40  37  54  24  58  22  59  11  45  25  55\n",
            "  26  43  35  14  28  46  36  32  53  57  27  39  41  30  29  49  23  48\n",
            "  44  38  31  52  33  34  61  60 116  86  73 113 102  68 104  93  70  92\n",
            " 121  72 178 174 161 118 105 172 163 167 142 154 133 180 181 173 165 168\n",
            " 186 140 149 145 169 188  62  84 111  65 107  63 101  87 125  94 114 171\n",
            " 153 170 166 141 155 179 192 131 147 151 189  79  74 110  64  67  99 123\n",
            " 157 117 150 182 162 160 194 135 190  69 108  89 126 156 103 146 132 177\n",
            " 164 176 112  75 109  91 128 175 187 148 137 184 196 144 158 119 106  66\n",
            " 100  90 120 115  98 159 152 185 139 143  80 124  71 134 193  78  88 122\n",
            " 130  81  97 138 191  76  96 198  82  95 195 183 199 200 201 197  77  83\n",
            " 136 205 204 202 129 206  85 209 211 207 208 203 210 127 213 212 218 216\n",
            " 217 214 222 220 223 229 225 228 224 231 215 233 230 235 227 221 226 219\n",
            " 289 245 609 261 322 276 710 511 326 281 718 551 304 639 489 299 243 630\n",
            " 476 655 446 286 633 435 302 644 470 332 259 702 520 300 241 668 510 237\n",
            " 626 507 317 624 474 240 672 306 600 383 293 258 646 444 333 279 717 342\n",
            " 720 547 305 642 452 313 252 664 481 277 307 264 684 479 255 657 441 312\n",
            " 269 716 528 320 285 726 536 283 628 469 464 677 420 247 629 424 290 473\n",
            " 294 722 485 297 282 719 543 253 254 678 496 275 741 512 236 234 244 239\n",
            " 238 242 232 249 250 251 391 539 411 486 407 330 697 246 467 263 591 248\n",
            " 519 425]\n",
            "day: [ 1  2  3  4  5  6  7  8  9 10 11 12 13 14 15 16 17 18 19 20 21 22 23 24\n",
            " 25 26 27 28 29 30 31]\n",
            "month: [ 1  2  3  4  5  6  7  8  9 10 11 12]\n",
            "week: [ 1  2  3  4  5  6  7  8  9 10 11 12 13 14 15 16 17 18 19 20 21 22 23 24\n",
            " 25 26 27 28 29 30 31 32 33 34 35 36 37 38 39 40 41 42 43 44 45 46 47 48\n",
            " 49 50 51 52 53]\n",
            "year: [2013 2014 2015 2016 2017]\n"
          ]
        }
      ],
      "source": [
        "# Display unique values of train_4_copy\n",
        "\n",
        "train_4_copy.nunique()\n",
        "\n",
        "# List the unique values in each column\n",
        "\n",
        "for column in train_4_copy.columns:\n",
        "    print(f'{column}: {train_4_copy[column].unique()}')\n"
      ]
    },
    {
      "cell_type": "code",
      "execution_count": 255,
      "metadata": {},
      "outputs": [
        {
          "data": {
            "text/html": [
              "<div>\n",
              "<style scoped>\n",
              "    .dataframe tbody tr th:only-of-type {\n",
              "        vertical-align: middle;\n",
              "    }\n",
              "\n",
              "    .dataframe tbody tr th {\n",
              "        vertical-align: top;\n",
              "    }\n",
              "\n",
              "    .dataframe thead th {\n",
              "        text-align: right;\n",
              "    }\n",
              "</style>\n",
              "<table border=\"1\" class=\"dataframe\">\n",
              "  <thead>\n",
              "    <tr style=\"text-align: right;\">\n",
              "      <th></th>\n",
              "      <th>count</th>\n",
              "      <th>mean</th>\n",
              "      <th>min</th>\n",
              "      <th>25%</th>\n",
              "      <th>50%</th>\n",
              "      <th>75%</th>\n",
              "      <th>max</th>\n",
              "      <th>std</th>\n",
              "    </tr>\n",
              "  </thead>\n",
              "  <tbody>\n",
              "    <tr>\n",
              "      <th>id</th>\n",
              "      <td>3000888.0</td>\n",
              "      <td>1500443.5</td>\n",
              "      <td>0.0</td>\n",
              "      <td>750221.75</td>\n",
              "      <td>1500443.5</td>\n",
              "      <td>2250665.25</td>\n",
              "      <td>3000887.0</td>\n",
              "      <td>866281.891642</td>\n",
              "    </tr>\n",
              "    <tr>\n",
              "      <th>date</th>\n",
              "      <td>3000888</td>\n",
              "      <td>2015-04-24 08:27:04.703088384</td>\n",
              "      <td>2013-01-01 00:00:00</td>\n",
              "      <td>2014-02-26 18:00:00</td>\n",
              "      <td>2015-04-24 12:00:00</td>\n",
              "      <td>2016-06-19 06:00:00</td>\n",
              "      <td>2017-08-15 00:00:00</td>\n",
              "      <td>NaN</td>\n",
              "    </tr>\n",
              "    <tr>\n",
              "      <th>store_nbr</th>\n",
              "      <td>3000888.0</td>\n",
              "      <td>27.5</td>\n",
              "      <td>1.0</td>\n",
              "      <td>14.0</td>\n",
              "      <td>27.5</td>\n",
              "      <td>41.0</td>\n",
              "      <td>54.0</td>\n",
              "      <td>15.585787</td>\n",
              "    </tr>\n",
              "    <tr>\n",
              "      <th>sales</th>\n",
              "      <td>3000888.0</td>\n",
              "      <td>357.775749</td>\n",
              "      <td>0.0</td>\n",
              "      <td>0.0</td>\n",
              "      <td>11.0</td>\n",
              "      <td>195.84725</td>\n",
              "      <td>124717.0</td>\n",
              "      <td>1101.997721</td>\n",
              "    </tr>\n",
              "    <tr>\n",
              "      <th>onpromotion</th>\n",
              "      <td>3000888.0</td>\n",
              "      <td>2.60277</td>\n",
              "      <td>0.0</td>\n",
              "      <td>0.0</td>\n",
              "      <td>0.0</td>\n",
              "      <td>0.0</td>\n",
              "      <td>741.0</td>\n",
              "      <td>12.218882</td>\n",
              "    </tr>\n",
              "    <tr>\n",
              "      <th>day</th>\n",
              "      <td>3000888.0</td>\n",
              "      <td>15.630048</td>\n",
              "      <td>1.0</td>\n",
              "      <td>8.0</td>\n",
              "      <td>16.0</td>\n",
              "      <td>23.0</td>\n",
              "      <td>31.0</td>\n",
              "      <td>8.794789</td>\n",
              "    </tr>\n",
              "    <tr>\n",
              "      <th>month</th>\n",
              "      <td>3000888.0</td>\n",
              "      <td>6.207838</td>\n",
              "      <td>1.0</td>\n",
              "      <td>3.0</td>\n",
              "      <td>6.0</td>\n",
              "      <td>9.0</td>\n",
              "      <td>12.0</td>\n",
              "      <td>3.385668</td>\n",
              "    </tr>\n",
              "    <tr>\n",
              "      <th>week</th>\n",
              "      <td>3000888.0</td>\n",
              "      <td>25.242874</td>\n",
              "      <td>1.0</td>\n",
              "      <td>13.0</td>\n",
              "      <td>25.0</td>\n",
              "      <td>38.0</td>\n",
              "      <td>53.0</td>\n",
              "      <td>14.794671</td>\n",
              "    </tr>\n",
              "    <tr>\n",
              "      <th>year</th>\n",
              "      <td>3000888.0</td>\n",
              "      <td>2014.837886</td>\n",
              "      <td>2013.0</td>\n",
              "      <td>2014.0</td>\n",
              "      <td>2015.0</td>\n",
              "      <td>2016.0</td>\n",
              "      <td>2017.0</td>\n",
              "      <td>1.345518</td>\n",
              "    </tr>\n",
              "  </tbody>\n",
              "</table>\n",
              "</div>"
            ],
            "text/plain": [
              "                 count                           mean                  min  \\\n",
              "id           3000888.0                      1500443.5                  0.0   \n",
              "date           3000888  2015-04-24 08:27:04.703088384  2013-01-01 00:00:00   \n",
              "store_nbr    3000888.0                           27.5                  1.0   \n",
              "sales        3000888.0                     357.775749                  0.0   \n",
              "onpromotion  3000888.0                        2.60277                  0.0   \n",
              "day          3000888.0                      15.630048                  1.0   \n",
              "month        3000888.0                       6.207838                  1.0   \n",
              "week         3000888.0                      25.242874                  1.0   \n",
              "year         3000888.0                    2014.837886               2013.0   \n",
              "\n",
              "                             25%                  50%                  75%  \\\n",
              "id                     750221.75            1500443.5           2250665.25   \n",
              "date         2014-02-26 18:00:00  2015-04-24 12:00:00  2016-06-19 06:00:00   \n",
              "store_nbr                   14.0                 27.5                 41.0   \n",
              "sales                        0.0                 11.0            195.84725   \n",
              "onpromotion                  0.0                  0.0                  0.0   \n",
              "day                          8.0                 16.0                 23.0   \n",
              "month                        3.0                  6.0                  9.0   \n",
              "week                        13.0                 25.0                 38.0   \n",
              "year                      2014.0               2015.0               2016.0   \n",
              "\n",
              "                             max            std  \n",
              "id                     3000887.0  866281.891642  \n",
              "date         2017-08-15 00:00:00            NaN  \n",
              "store_nbr                   54.0      15.585787  \n",
              "sales                   124717.0    1101.997721  \n",
              "onpromotion                741.0      12.218882  \n",
              "day                         31.0       8.794789  \n",
              "month                       12.0       3.385668  \n",
              "week                        53.0      14.794671  \n",
              "year                      2017.0       1.345518  "
            ]
          },
          "execution_count": 255,
          "metadata": {},
          "output_type": "execute_result"
        }
      ],
      "source": [
        "# Describe the numeric columns of the train_4_copy\n",
        "\n",
        "train_4_copy.describe().T"
      ]
    },
    {
      "cell_type": "code",
      "execution_count": 256,
      "metadata": {},
      "outputs": [
        {
          "data": {
            "text/html": [
              "<div>\n",
              "<style scoped>\n",
              "    .dataframe tbody tr th:only-of-type {\n",
              "        vertical-align: middle;\n",
              "    }\n",
              "\n",
              "    .dataframe tbody tr th {\n",
              "        vertical-align: top;\n",
              "    }\n",
              "\n",
              "    .dataframe thead th {\n",
              "        text-align: right;\n",
              "    }\n",
              "</style>\n",
              "<table border=\"1\" class=\"dataframe\">\n",
              "  <thead>\n",
              "    <tr style=\"text-align: right;\">\n",
              "      <th></th>\n",
              "      <th>count</th>\n",
              "      <th>unique</th>\n",
              "      <th>top</th>\n",
              "      <th>freq</th>\n",
              "    </tr>\n",
              "  </thead>\n",
              "  <tbody>\n",
              "    <tr>\n",
              "      <th>family</th>\n",
              "      <td>3000888</td>\n",
              "      <td>33</td>\n",
              "      <td>AUTOMOTIVE</td>\n",
              "      <td>90936</td>\n",
              "    </tr>\n",
              "  </tbody>\n",
              "</table>\n",
              "</div>"
            ],
            "text/plain": [
              "          count unique         top   freq\n",
              "family  3000888     33  AUTOMOTIVE  90936"
            ]
          },
          "execution_count": 256,
          "metadata": {},
          "output_type": "execute_result"
        }
      ],
      "source": [
        "# Describe the train_4_copy data including objects\n",
        "\n",
        "train_4_copy.describe(include='object').T"
      ]
    },
    {
      "cell_type": "markdown",
      "metadata": {},
      "source": [
        "### Visualizing Holidays and Events"
      ]
    },
    {
      "cell_type": "code",
      "execution_count": 271,
      "metadata": {},
      "outputs": [
        {
          "data": {
            "image/png": "[encoded data removed]",
            "text/plain": [
              "<Figure size 1500x1000 with 1 Axes>"
            ]
          },
          "metadata": {},
          "output_type": "display_data"
        }
      ],
      "source": [
        "# Convert 'date' to datetime format if not already done\n",
        "train_2['date'] = pd.to_datetime(train_2['date'])\n",
        "\n",
        "# Extract the year from the date\n",
        "train_2['year'] = train_2['date'].dt.year\n",
        "\n",
        "# Count the number of holidays/events per year per locale\n",
        "train_2_count = train_2.groupby(['year', 'locale']).size().reset_index(name='counts')\n",
        "\n",
        "plt.figure(figsize=(15, 10))\n",
        "sns.barplot(data=train_2_count, x='year', y='counts', hue='locale', palette='magma')\n",
        "plt.title('Holidays & Events Count per Year (2012-2018)')\n",
        "plt.xlabel('Year')\n",
        "plt.ylabel('Count of Holidays/Events')\n",
        "plt.grid(False)\n",
        "plt.tight_layout()\n",
        "plt.legend(title='Holiday_Type', bbox_to_anchor=(1.05, 1), loc='upper left')\n",
        "plt.show()\n"
      ]
    },
    {
      "cell_type": "markdown",
      "metadata": {},
      "source": [
        "#### Yearly Trends:\n",
        "\n",
        "The plot shows how the number of holidays and events has changed over the years from 2012 to 2017. By examining the heights of the bars, we can identify which years had more or fewer holidays/events.\n",
        "** **\n",
        "Holiday_Type Differences:\n",
        "\n",
        "The different colors in the bars represent different locales. This allows us to see how the distribution of holidays/events varies across different regions or locations.\n",
        "** **\n",
        "Business Implications:\n",
        "\n",
        "Understanding the distribution of holidays and events can help in planning marketing campaigns, inventory management, and staffing. For instance, if certain years or Holiday_Types have consistently high numbers, businesses can prepare for increased demand during those periods.\n",
        "This visualisation provides valuable insights into the distribution of holidays and events, which can inform strategic decision-making for business operations and marketing efforts.\n",
        "\n"
      ]
    },
    {
      "cell_type": "markdown",
      "metadata": {},
      "source": [
        "### Insights pertaining to stores"
      ]
    },
    {
      "cell_type": "code",
      "execution_count": 274,
      "metadata": {},
      "outputs": [
        {
          "data": {
            "text/plain": [
              "54"
            ]
          },
          "execution_count": 274,
          "metadata": {},
          "output_type": "execute_result"
        }
      ],
      "source": [
        "# The number of unique stores in train_3\n",
        "\n",
        "train_3['store_nbr'].nunique()"
      ]
    },
    {
      "cell_type": "code",
      "execution_count": 275,
      "metadata": {},
      "outputs": [
        {
          "data": {
            "text/plain": [
              "22"
            ]
          },
          "execution_count": 275,
          "metadata": {},
          "output_type": "execute_result"
        }
      ],
      "source": [
        "# The number of cities the stores are located \n",
        "\n",
        "train_3['city'].nunique()"
      ]
    },
    {
      "cell_type": "code",
      "execution_count": 276,
      "metadata": {},
      "outputs": [
        {
          "data": {
            "text/plain": [
              "16"
            ]
          },
          "execution_count": 276,
          "metadata": {},
          "output_type": "execute_result"
        }
      ],
      "source": [
        "# The number of unique states the stores are located\n",
        "\n",
        "train_3['state'].nunique()"
      ]
    },
    {
      "cell_type": "code",
      "execution_count": 295,
      "metadata": {},
      "outputs": [
        {
          "data": {
            "image/png": "[encoded data removed]",
            "text/plain": [
              "<Figure size 1000x800 with 1 Axes>"
            ]
          },
          "metadata": {},
          "output_type": "display_data"
        },
        {
          "data": {
            "text/html": [
              "<div>\n",
              "<style scoped>\n",
              "    .dataframe tbody tr th:only-of-type {\n",
              "        vertical-align: middle;\n",
              "    }\n",
              "\n",
              "    .dataframe tbody tr th {\n",
              "        vertical-align: top;\n",
              "    }\n",
              "\n",
              "    .dataframe thead th {\n",
              "        text-align: right;\n",
              "    }\n",
              "</style>\n",
              "<table border=\"1\" class=\"dataframe\">\n",
              "  <thead>\n",
              "    <tr style=\"text-align: right;\">\n",
              "      <th></th>\n",
              "      <th>state</th>\n",
              "      <th>store_nbr</th>\n",
              "    </tr>\n",
              "  </thead>\n",
              "  <tbody>\n",
              "    <tr>\n",
              "      <th>0</th>\n",
              "      <td>Pichincha</td>\n",
              "      <td>19</td>\n",
              "    </tr>\n",
              "    <tr>\n",
              "      <th>1</th>\n",
              "      <td>Guayas</td>\n",
              "      <td>11</td>\n",
              "    </tr>\n",
              "    <tr>\n",
              "      <th>2</th>\n",
              "      <td>Manabi</td>\n",
              "      <td>3</td>\n",
              "    </tr>\n",
              "    <tr>\n",
              "      <th>3</th>\n",
              "      <td>Azuay</td>\n",
              "      <td>3</td>\n",
              "    </tr>\n",
              "    <tr>\n",
              "      <th>4</th>\n",
              "      <td>Santo Domingo de los Tsachilas</td>\n",
              "      <td>3</td>\n",
              "    </tr>\n",
              "    <tr>\n",
              "      <th>5</th>\n",
              "      <td>Los Rios</td>\n",
              "      <td>2</td>\n",
              "    </tr>\n",
              "    <tr>\n",
              "      <th>6</th>\n",
              "      <td>El Oro</td>\n",
              "      <td>2</td>\n",
              "    </tr>\n",
              "    <tr>\n",
              "      <th>7</th>\n",
              "      <td>Cotopaxi</td>\n",
              "      <td>2</td>\n",
              "    </tr>\n",
              "    <tr>\n",
              "      <th>8</th>\n",
              "      <td>Tungurahua</td>\n",
              "      <td>2</td>\n",
              "    </tr>\n",
              "    <tr>\n",
              "      <th>9</th>\n",
              "      <td>Esmeraldas</td>\n",
              "      <td>1</td>\n",
              "    </tr>\n",
              "    <tr>\n",
              "      <th>10</th>\n",
              "      <td>Bolivar</td>\n",
              "      <td>1</td>\n",
              "    </tr>\n",
              "    <tr>\n",
              "      <th>11</th>\n",
              "      <td>Chimborazo</td>\n",
              "      <td>1</td>\n",
              "    </tr>\n",
              "    <tr>\n",
              "      <th>12</th>\n",
              "      <td>Imbabura</td>\n",
              "      <td>1</td>\n",
              "    </tr>\n",
              "    <tr>\n",
              "      <th>13</th>\n",
              "      <td>Loja</td>\n",
              "      <td>1</td>\n",
              "    </tr>\n",
              "    <tr>\n",
              "      <th>14</th>\n",
              "      <td>Pastaza</td>\n",
              "      <td>1</td>\n",
              "    </tr>\n",
              "    <tr>\n",
              "      <th>15</th>\n",
              "      <td>Santa Elena</td>\n",
              "      <td>1</td>\n",
              "    </tr>\n",
              "  </tbody>\n",
              "</table>\n",
              "</div>"
            ],
            "text/plain": [
              "                             state  store_nbr\n",
              "0                        Pichincha         19\n",
              "1                           Guayas         11\n",
              "2                           Manabi          3\n",
              "3                            Azuay          3\n",
              "4   Santo Domingo de los Tsachilas          3\n",
              "5                         Los Rios          2\n",
              "6                           El Oro          2\n",
              "7                         Cotopaxi          2\n",
              "8                       Tungurahua          2\n",
              "9                       Esmeraldas          1\n",
              "10                         Bolivar          1\n",
              "11                      Chimborazo          1\n",
              "12                        Imbabura          1\n",
              "13                            Loja          1\n",
              "14                         Pastaza          1\n",
              "15                     Santa Elena          1"
            ]
          },
          "execution_count": 295,
          "metadata": {},
          "output_type": "execute_result"
        }
      ],
      "source": [
        "# Count the unique number of stores in each state\n",
        "store_count = train_3.groupby('state').store_nbr.nunique().sort_values(ascending=False).reset_index()\n",
        "\n",
        "# Plotting a horizontal bar chart to visualize the number of stores per state\n",
        "plt.figure(figsize=(10, 8))\n",
        "bars = plt.barh(store_count['state'], store_count['store_nbr'], color=sns.color_palette('YlOrRd', n_colors=len(store_count)))\n",
        "\n",
        "# Adding data labels to each bar\n",
        "for bar in bars:\n",
        "    plt.text(bar.get_width(), bar.get_y() + bar.get_height()/2, f'{int(bar.get_width())}', \n",
        "             va='center', ha='left', fontsize=12, color='black')\n",
        "\n",
        "max_stores = store_count['store_nbr'].max()\n",
        "plt.xticks(list(range(0, max_stores + 1)))\n",
        "plt.title('Number of Stores per State')\n",
        "plt.xlabel('Number of Stores')\n",
        "plt.ylabel('State')\n",
        "plt.grid(False)  # Turn off grid\n",
        "plt.tight_layout()\n",
        "plt.show()\n",
        "\n",
        "# Display store count per state\n",
        "store_count\n"
      ]
    },
    {
      "cell_type": "code",
      "execution_count": 298,
      "metadata": {},
      "outputs": [
        {
          "data": {
            "image/png": "[encoded data removed]",
            "text/plain": [
              "<Figure size 1200x800 with 1 Axes>"
            ]
          },
          "metadata": {},
          "output_type": "display_data"
        },
        {
          "data": {
            "text/html": [
              "<div>\n",
              "<style scoped>\n",
              "    .dataframe tbody tr th:only-of-type {\n",
              "        vertical-align: middle;\n",
              "    }\n",
              "\n",
              "    .dataframe tbody tr th {\n",
              "        vertical-align: top;\n",
              "    }\n",
              "\n",
              "    .dataframe thead th {\n",
              "        text-align: right;\n",
              "    }\n",
              "</style>\n",
              "<table border=\"1\" class=\"dataframe\">\n",
              "  <thead>\n",
              "    <tr style=\"text-align: right;\">\n",
              "      <th></th>\n",
              "      <th>city</th>\n",
              "      <th>state</th>\n",
              "      <th>store_nbr</th>\n",
              "    </tr>\n",
              "  </thead>\n",
              "  <tbody>\n",
              "    <tr>\n",
              "      <th>0</th>\n",
              "      <td>Quito</td>\n",
              "      <td>Pichincha</td>\n",
              "      <td>18</td>\n",
              "    </tr>\n",
              "    <tr>\n",
              "      <th>1</th>\n",
              "      <td>Guayaquil</td>\n",
              "      <td>Guayas</td>\n",
              "      <td>8</td>\n",
              "    </tr>\n",
              "    <tr>\n",
              "      <th>2</th>\n",
              "      <td>Cuenca</td>\n",
              "      <td>Azuay</td>\n",
              "      <td>3</td>\n",
              "    </tr>\n",
              "    <tr>\n",
              "      <th>3</th>\n",
              "      <td>Santo Domingo</td>\n",
              "      <td>Santo Domingo de los Tsachilas</td>\n",
              "      <td>3</td>\n",
              "    </tr>\n",
              "    <tr>\n",
              "      <th>4</th>\n",
              "      <td>Latacunga</td>\n",
              "      <td>Cotopaxi</td>\n",
              "      <td>2</td>\n",
              "    </tr>\n",
              "    <tr>\n",
              "      <th>5</th>\n",
              "      <td>Ambato</td>\n",
              "      <td>Tungurahua</td>\n",
              "      <td>2</td>\n",
              "    </tr>\n",
              "    <tr>\n",
              "      <th>6</th>\n",
              "      <td>Machala</td>\n",
              "      <td>El Oro</td>\n",
              "      <td>2</td>\n",
              "    </tr>\n",
              "    <tr>\n",
              "      <th>7</th>\n",
              "      <td>Manta</td>\n",
              "      <td>Manabi</td>\n",
              "      <td>2</td>\n",
              "    </tr>\n",
              "    <tr>\n",
              "      <th>8</th>\n",
              "      <td>Cayambe</td>\n",
              "      <td>Pichincha</td>\n",
              "      <td>1</td>\n",
              "    </tr>\n",
              "    <tr>\n",
              "      <th>9</th>\n",
              "      <td>Babahoyo</td>\n",
              "      <td>Los Rios</td>\n",
              "      <td>1</td>\n",
              "    </tr>\n",
              "    <tr>\n",
              "      <th>10</th>\n",
              "      <td>El Carmen</td>\n",
              "      <td>Manabi</td>\n",
              "      <td>1</td>\n",
              "    </tr>\n",
              "    <tr>\n",
              "      <th>11</th>\n",
              "      <td>Daule</td>\n",
              "      <td>Guayas</td>\n",
              "      <td>1</td>\n",
              "    </tr>\n",
              "    <tr>\n",
              "      <th>12</th>\n",
              "      <td>Ibarra</td>\n",
              "      <td>Imbabura</td>\n",
              "      <td>1</td>\n",
              "    </tr>\n",
              "    <tr>\n",
              "      <th>13</th>\n",
              "      <td>Esmeraldas</td>\n",
              "      <td>Esmeraldas</td>\n",
              "      <td>1</td>\n",
              "    </tr>\n",
              "    <tr>\n",
              "      <th>14</th>\n",
              "      <td>Loja</td>\n",
              "      <td>Loja</td>\n",
              "      <td>1</td>\n",
              "    </tr>\n",
              "    <tr>\n",
              "      <th>15</th>\n",
              "      <td>Libertad</td>\n",
              "      <td>Guayas</td>\n",
              "      <td>1</td>\n",
              "    </tr>\n",
              "    <tr>\n",
              "      <th>16</th>\n",
              "      <td>Guaranda</td>\n",
              "      <td>Bolivar</td>\n",
              "      <td>1</td>\n",
              "    </tr>\n",
              "    <tr>\n",
              "      <th>17</th>\n",
              "      <td>Playas</td>\n",
              "      <td>Guayas</td>\n",
              "      <td>1</td>\n",
              "    </tr>\n",
              "    <tr>\n",
              "      <th>18</th>\n",
              "      <td>Quevedo</td>\n",
              "      <td>Los Rios</td>\n",
              "      <td>1</td>\n",
              "    </tr>\n",
              "    <tr>\n",
              "      <th>19</th>\n",
              "      <td>Puyo</td>\n",
              "      <td>Pastaza</td>\n",
              "      <td>1</td>\n",
              "    </tr>\n",
              "    <tr>\n",
              "      <th>20</th>\n",
              "      <td>Riobamba</td>\n",
              "      <td>Chimborazo</td>\n",
              "      <td>1</td>\n",
              "    </tr>\n",
              "    <tr>\n",
              "      <th>21</th>\n",
              "      <td>Salinas</td>\n",
              "      <td>Santa Elena</td>\n",
              "      <td>1</td>\n",
              "    </tr>\n",
              "  </tbody>\n",
              "</table>\n",
              "</div>"
            ],
            "text/plain": [
              "             city                           state  store_nbr\n",
              "0           Quito                       Pichincha         18\n",
              "1       Guayaquil                          Guayas          8\n",
              "2          Cuenca                           Azuay          3\n",
              "3   Santo Domingo  Santo Domingo de los Tsachilas          3\n",
              "4       Latacunga                        Cotopaxi          2\n",
              "5          Ambato                      Tungurahua          2\n",
              "6         Machala                          El Oro          2\n",
              "7           Manta                          Manabi          2\n",
              "8         Cayambe                       Pichincha          1\n",
              "9        Babahoyo                        Los Rios          1\n",
              "10      El Carmen                          Manabi          1\n",
              "11          Daule                          Guayas          1\n",
              "12         Ibarra                        Imbabura          1\n",
              "13     Esmeraldas                      Esmeraldas          1\n",
              "14           Loja                            Loja          1\n",
              "15       Libertad                          Guayas          1\n",
              "16       Guaranda                         Bolivar          1\n",
              "17         Playas                          Guayas          1\n",
              "18        Quevedo                        Los Rios          1\n",
              "19           Puyo                         Pastaza          1\n",
              "20       Riobamba                      Chimborazo          1\n",
              "21        Salinas                     Santa Elena          1"
            ]
          },
          "execution_count": 298,
          "metadata": {},
          "output_type": "execute_result"
        }
      ],
      "source": [
        "# Count the unique number of stores in each city with state as hue\n",
        "store_count = train_3.groupby(['city', 'state']).store_nbr.nunique().sort_values(ascending=False).reset_index()\n",
        "\n",
        "# Generate random colors for each unique state\n",
        "unique_states = store_count['state'].unique()\n",
        "random_colors = {state: f'#{random.randint(0, 0xFFFFFF):06x}' for state in unique_states}\n",
        "\n",
        "# Plotting the unique number of stores for each city with hue as 'state'\n",
        "plt.figure(figsize=(12, 8))\n",
        "ax = sns.barplot(data=store_count, y='city', x='store_nbr', hue='state', palette=random_colors, dodge=False, orient='h')\n",
        "\n",
        "# Adding data labels to each bar\n",
        "for p in ax.patches:\n",
        "    if p.get_width() > 0:\n",
        "        ax.annotate(format(p.get_width(), '.0f'), \n",
        "                    (p.get_width(), p.get_y() + p.get_height() / 2.), \n",
        "                    ha='center', va='center', \n",
        "                    xytext=(10, 0), \n",
        "                    textcoords='offset points',\n",
        "                    color='white')\n",
        "\n",
        "# Setting whole number units for x-axis ticks\n",
        "max_stores = store_count['store_nbr'].max()\n",
        "plt.xticks(list(range(0, max_stores + 1)))\n",
        "\n",
        "plt.title('Number of Stores per City')\n",
        "plt.xlabel('Number of Stores')\n",
        "plt.ylabel('City')\n",
        "\n",
        "# Move legend to the top right corner\n",
        "plt.legend(title='State', bbox_to_anchor=(1.1, 1.05), loc='upper left')\n",
        "\n",
        "plt.grid(False)  # Turn off grid lines\n",
        "plt.tight_layout()\n",
        "plt.show()\n",
        "\n",
        "# Display store count per city\n",
        "store_count\n"
      ]
    },
    {
      "cell_type": "code",
      "execution_count": null,
      "metadata": {},
      "outputs": [],
      "source": []
    },
    {
      "cell_type": "code",
      "execution_count": 239,
      "metadata": {},
      "outputs": [],
      "source": [
        "# Read the merged data \n",
        "# train_data.sample(22)"
      ]
    },
    {
      "cell_type": "markdown",
      "metadata": {
        "id": "zXd3ZCL09uvj"
      },
      "source": [
        "`Univariate Analysis`\n",
        "Here is the section to explore, analyze, visualize each variable independently of the others."
      ]
    },
    {
      "cell_type": "code",
      "execution_count": 240,
      "metadata": {},
      "outputs": [
        {
          "name": "stdout",
          "output_type": "stream",
          "text": [
            "date: 1755 unique values\n",
            "dcoilwtico: 998 unique values\n",
            "type: 11 unique values\n",
            "locale: 3 unique values\n",
            "locale_name: 24 unique values\n",
            "description: 103 unique values\n",
            "transferred: 2 unique values\n",
            "store_nbr: 54 unique values\n",
            "city: 22 unique values\n",
            "state: 16 unique values\n",
            "cluster: 17 unique values\n",
            "id: 3000888 unique values\n",
            "family: 33 unique values\n",
            "sales: 379610 unique values\n",
            "onpromotion: 362 unique values\n",
            "transactions: 4993 unique values\n"
          ]
        }
      ],
      "source": [
        "# find unique values in each column of the dataset\n",
        "\n",
        "for column in train_data.columns:\n",
        "    print(f'{column}: {train_data[column].nunique()} unique values')\n"
      ]
    },
    {
      "cell_type": "code",
      "execution_count": 241,
      "metadata": {
        "id": "0VNR9LfZfbGe"
      },
      "outputs": [
        {
          "data": {
            "text/html": [
              "<div>\n",
              "<style scoped>\n",
              "    .dataframe tbody tr th:only-of-type {\n",
              "        vertical-align: middle;\n",
              "    }\n",
              "\n",
              "    .dataframe tbody tr th {\n",
              "        vertical-align: top;\n",
              "    }\n",
              "\n",
              "    .dataframe thead th {\n",
              "        text-align: right;\n",
              "    }\n",
              "</style>\n",
              "<table border=\"1\" class=\"dataframe\">\n",
              "  <thead>\n",
              "    <tr style=\"text-align: right;\">\n",
              "      <th></th>\n",
              "      <th>sales</th>\n",
              "    </tr>\n",
              "  </thead>\n",
              "  <tbody>\n",
              "    <tr>\n",
              "      <th>count</th>\n",
              "      <td>3.000888e+06</td>\n",
              "    </tr>\n",
              "    <tr>\n",
              "      <th>mean</th>\n",
              "      <td>3.577757e+02</td>\n",
              "    </tr>\n",
              "    <tr>\n",
              "      <th>std</th>\n",
              "      <td>1.101998e+03</td>\n",
              "    </tr>\n",
              "    <tr>\n",
              "      <th>min</th>\n",
              "      <td>0.000000e+00</td>\n",
              "    </tr>\n",
              "    <tr>\n",
              "      <th>25%</th>\n",
              "      <td>0.000000e+00</td>\n",
              "    </tr>\n",
              "    <tr>\n",
              "      <th>50%</th>\n",
              "      <td>1.100000e+01</td>\n",
              "    </tr>\n",
              "    <tr>\n",
              "      <th>75%</th>\n",
              "      <td>1.958473e+02</td>\n",
              "    </tr>\n",
              "    <tr>\n",
              "      <th>max</th>\n",
              "      <td>1.247170e+05</td>\n",
              "    </tr>\n",
              "  </tbody>\n",
              "</table>\n",
              "</div>"
            ],
            "text/plain": [
              "              sales\n",
              "count  3.000888e+06\n",
              "mean   3.577757e+02\n",
              "std    1.101998e+03\n",
              "min    0.000000e+00\n",
              "25%    0.000000e+00\n",
              "50%    1.100000e+01\n",
              "75%    1.958473e+02\n",
              "max    1.247170e+05"
            ]
          },
          "execution_count": 241,
          "metadata": {},
          "output_type": "execute_result"
        }
      ],
      "source": [
        "# Descriptive statistics for  sales\n",
        "pd.DataFrame(train_data['sales'].describe())"
      ]
    },
    {
      "cell_type": "code",
      "execution_count": 242,
      "metadata": {},
      "outputs": [],
      "source": [
        "#  Describe the numeric columns"
      ]
    },
    {
      "cell_type": "code",
      "execution_count": 243,
      "metadata": {
        "dotnet_interactive": {
          "language": "csharp"
        },
        "polyglot_notebook": {
          "kernelName": "csharp"
        }
      },
      "outputs": [
        {
          "data": {
            "text/html": [
              "<div>\n",
              "<style scoped>\n",
              "    .dataframe tbody tr th:only-of-type {\n",
              "        vertical-align: middle;\n",
              "    }\n",
              "\n",
              "    .dataframe tbody tr th {\n",
              "        vertical-align: top;\n",
              "    }\n",
              "\n",
              "    .dataframe thead th {\n",
              "        text-align: right;\n",
              "    }\n",
              "</style>\n",
              "<table border=\"1\" class=\"dataframe\">\n",
              "  <thead>\n",
              "    <tr style=\"text-align: right;\">\n",
              "      <th></th>\n",
              "      <th>count</th>\n",
              "    </tr>\n",
              "    <tr>\n",
              "      <th>family</th>\n",
              "      <th></th>\n",
              "    </tr>\n",
              "  </thead>\n",
              "  <tbody>\n",
              "    <tr>\n",
              "      <th>AUTOMOTIVE</th>\n",
              "      <td>90936</td>\n",
              "    </tr>\n",
              "    <tr>\n",
              "      <th>BABY CARE</th>\n",
              "      <td>90936</td>\n",
              "    </tr>\n",
              "    <tr>\n",
              "      <th>BEAUTY</th>\n",
              "      <td>90936</td>\n",
              "    </tr>\n",
              "    <tr>\n",
              "      <th>BEVERAGES</th>\n",
              "      <td>90936</td>\n",
              "    </tr>\n",
              "    <tr>\n",
              "      <th>BOOKS</th>\n",
              "      <td>90936</td>\n",
              "    </tr>\n",
              "    <tr>\n",
              "      <th>BREAD/BAKERY</th>\n",
              "      <td>90936</td>\n",
              "    </tr>\n",
              "    <tr>\n",
              "      <th>CELEBRATION</th>\n",
              "      <td>90936</td>\n",
              "    </tr>\n",
              "    <tr>\n",
              "      <th>CLEANING</th>\n",
              "      <td>90936</td>\n",
              "    </tr>\n",
              "    <tr>\n",
              "      <th>DAIRY</th>\n",
              "      <td>90936</td>\n",
              "    </tr>\n",
              "    <tr>\n",
              "      <th>DELI</th>\n",
              "      <td>90936</td>\n",
              "    </tr>\n",
              "    <tr>\n",
              "      <th>EGGS</th>\n",
              "      <td>90936</td>\n",
              "    </tr>\n",
              "    <tr>\n",
              "      <th>FROZEN FOODS</th>\n",
              "      <td>90936</td>\n",
              "    </tr>\n",
              "    <tr>\n",
              "      <th>GROCERY I</th>\n",
              "      <td>90936</td>\n",
              "    </tr>\n",
              "    <tr>\n",
              "      <th>GROCERY II</th>\n",
              "      <td>90936</td>\n",
              "    </tr>\n",
              "    <tr>\n",
              "      <th>HARDWARE</th>\n",
              "      <td>90936</td>\n",
              "    </tr>\n",
              "    <tr>\n",
              "      <th>HOME AND KITCHEN I</th>\n",
              "      <td>90936</td>\n",
              "    </tr>\n",
              "    <tr>\n",
              "      <th>HOME AND KITCHEN II</th>\n",
              "      <td>90936</td>\n",
              "    </tr>\n",
              "    <tr>\n",
              "      <th>HOME APPLIANCES</th>\n",
              "      <td>90936</td>\n",
              "    </tr>\n",
              "    <tr>\n",
              "      <th>HOME CARE</th>\n",
              "      <td>90936</td>\n",
              "    </tr>\n",
              "    <tr>\n",
              "      <th>LADIESWEAR</th>\n",
              "      <td>90936</td>\n",
              "    </tr>\n",
              "    <tr>\n",
              "      <th>LAWN AND GARDEN</th>\n",
              "      <td>90936</td>\n",
              "    </tr>\n",
              "    <tr>\n",
              "      <th>LINGERIE</th>\n",
              "      <td>90936</td>\n",
              "    </tr>\n",
              "    <tr>\n",
              "      <th>LIQUOR,WINE,BEER</th>\n",
              "      <td>90936</td>\n",
              "    </tr>\n",
              "    <tr>\n",
              "      <th>MAGAZINES</th>\n",
              "      <td>90936</td>\n",
              "    </tr>\n",
              "    <tr>\n",
              "      <th>MEATS</th>\n",
              "      <td>90936</td>\n",
              "    </tr>\n",
              "    <tr>\n",
              "      <th>PERSONAL CARE</th>\n",
              "      <td>90936</td>\n",
              "    </tr>\n",
              "    <tr>\n",
              "      <th>PET SUPPLIES</th>\n",
              "      <td>90936</td>\n",
              "    </tr>\n",
              "    <tr>\n",
              "      <th>PLAYERS AND ELECTRONICS</th>\n",
              "      <td>90936</td>\n",
              "    </tr>\n",
              "    <tr>\n",
              "      <th>POULTRY</th>\n",
              "      <td>90936</td>\n",
              "    </tr>\n",
              "    <tr>\n",
              "      <th>PREPARED FOODS</th>\n",
              "      <td>90936</td>\n",
              "    </tr>\n",
              "    <tr>\n",
              "      <th>PRODUCE</th>\n",
              "      <td>90936</td>\n",
              "    </tr>\n",
              "    <tr>\n",
              "      <th>SCHOOL AND OFFICE SUPPLIES</th>\n",
              "      <td>90936</td>\n",
              "    </tr>\n",
              "    <tr>\n",
              "      <th>SEAFOOD</th>\n",
              "      <td>90936</td>\n",
              "    </tr>\n",
              "  </tbody>\n",
              "</table>\n",
              "</div>"
            ],
            "text/plain": [
              "                            count\n",
              "family                           \n",
              "AUTOMOTIVE                  90936\n",
              "BABY CARE                   90936\n",
              "BEAUTY                      90936\n",
              "BEVERAGES                   90936\n",
              "BOOKS                       90936\n",
              "BREAD/BAKERY                90936\n",
              "CELEBRATION                 90936\n",
              "CLEANING                    90936\n",
              "DAIRY                       90936\n",
              "DELI                        90936\n",
              "EGGS                        90936\n",
              "FROZEN FOODS                90936\n",
              "GROCERY I                   90936\n",
              "GROCERY II                  90936\n",
              "HARDWARE                    90936\n",
              "HOME AND KITCHEN I          90936\n",
              "HOME AND KITCHEN II         90936\n",
              "HOME APPLIANCES             90936\n",
              "HOME CARE                   90936\n",
              "LADIESWEAR                  90936\n",
              "LAWN AND GARDEN             90936\n",
              "LINGERIE                    90936\n",
              "LIQUOR,WINE,BEER            90936\n",
              "MAGAZINES                   90936\n",
              "MEATS                       90936\n",
              "PERSONAL CARE               90936\n",
              "PET SUPPLIES                90936\n",
              "PLAYERS AND ELECTRONICS     90936\n",
              "POULTRY                     90936\n",
              "PREPARED FOODS              90936\n",
              "PRODUCE                     90936\n",
              "SCHOOL AND OFFICE SUPPLIES  90936\n",
              "SEAFOOD                     90936"
            ]
          },
          "execution_count": 243,
          "metadata": {},
          "output_type": "execute_result"
        }
      ],
      "source": [
        "# Descriptive statistics on the family column \n",
        "pd.DataFrame(train_data['family'].value_counts())"
      ]
    },
    {
      "cell_type": "code",
      "execution_count": 244,
      "metadata": {},
      "outputs": [
        {
          "data": {
            "text/plain": [
              "<Axes: >"
            ]
          },
          "execution_count": 244,
          "metadata": {},
          "output_type": "execute_result"
        },
        {
          "data": {
            "image/png": "[encoded data removed]",
            "text/plain": [
              "<Figure size 1000x500 with 1 Axes>"
            ]
          },
          "metadata": {},
          "output_type": "display_data"
        }
      ],
      "source": [
        "# plot histogram for the sales column\n",
        "\n",
        "train_data['sales'].hist(bins=30, figsize=(10,5))"
      ]
    },
    {
      "cell_type": "code",
      "execution_count": 245,
      "metadata": {},
      "outputs": [
        {
          "data": {
            "text/plain": [
              "<Axes: >"
            ]
          },
          "execution_count": 245,
          "metadata": {},
          "output_type": "execute_result"
        },
        {
          "data": {
            "image/png": "[encoded data removed]",
            "text/plain": [
              "<Figure size 1000x500 with 1 Axes>"
            ]
          },
          "metadata": {},
          "output_type": "display_data"
        }
      ],
      "source": [
        "#  plot box plots for sales column\n",
        "\n",
        "train_data.boxplot(column='sales', figsize=(10,5))"
      ]
    },
    {
      "cell_type": "code",
      "execution_count": 246,
      "metadata": {},
      "outputs": [
        {
          "ename": "KeyboardInterrupt",
          "evalue": "",
          "output_type": "error",
          "traceback": [
            "\u001b[1;31m---------------------------------------------------------------------------\u001b[0m",
            "\u001b[1;31mKeyboardInterrupt\u001b[0m                         Traceback (most recent call last)",
            "Cell \u001b[1;32mIn[246], line 3\u001b[0m\n\u001b[0;32m      1\u001b[0m \u001b[38;5;66;03m# plot KDE plot for the sales column\u001b[39;00m\n\u001b[1;32m----> 3\u001b[0m \u001b[43msns\u001b[49m\u001b[38;5;241;43m.\u001b[39;49m\u001b[43mkdeplot\u001b[49m\u001b[43m(\u001b[49m\u001b[43mtrain_data\u001b[49m\u001b[43m[\u001b[49m\u001b[38;5;124;43m'\u001b[39;49m\u001b[38;5;124;43msales\u001b[39;49m\u001b[38;5;124;43m'\u001b[39;49m\u001b[43m]\u001b[49m\u001b[43m,\u001b[49m\u001b[43m \u001b[49m\u001b[43mshade\u001b[49m\u001b[38;5;241;43m=\u001b[39;49m\u001b[38;5;28;43;01mTrue\u001b[39;49;00m\u001b[43m)\u001b[49m\n",
            "File \u001b[1;32mc:\\Users\\Safowaa\\Documents\\Azibiafrica\\AzubiPython\\The_Regression_Project\\virtual\\lib\\site-packages\\seaborn\\distributions.py:1669\u001b[0m, in \u001b[0;36mkdeplot\u001b[1;34m(data, x, y, hue, weights, palette, hue_order, hue_norm, color, fill, multiple, common_norm, common_grid, cumulative, bw_method, bw_adjust, warn_singular, log_scale, levels, thresh, gridsize, cut, clip, legend, cbar, cbar_ax, cbar_kws, ax, **kwargs)\u001b[0m\n\u001b[0;32m   1665\u001b[0m levels \u001b[38;5;241m=\u001b[39m kwargs\u001b[38;5;241m.\u001b[39mpop(\u001b[38;5;124m\"\u001b[39m\u001b[38;5;124mn_levels\u001b[39m\u001b[38;5;124m\"\u001b[39m, levels)\n\u001b[0;32m   1667\u001b[0m \u001b[38;5;66;03m# - - - - - - - - - - - - - - - - - - - - - - - - - - - - - - - - - - - - #\u001b[39;00m\n\u001b[1;32m-> 1669\u001b[0m p \u001b[38;5;241m=\u001b[39m \u001b[43m_DistributionPlotter\u001b[49m\u001b[43m(\u001b[49m\n\u001b[0;32m   1670\u001b[0m \u001b[43m    \u001b[49m\u001b[43mdata\u001b[49m\u001b[38;5;241;43m=\u001b[39;49m\u001b[43mdata\u001b[49m\u001b[43m,\u001b[49m\n\u001b[0;32m   1671\u001b[0m \u001b[43m    \u001b[49m\u001b[43mvariables\u001b[49m\u001b[38;5;241;43m=\u001b[39;49m\u001b[38;5;28;43mdict\u001b[39;49m\u001b[43m(\u001b[49m\u001b[43mx\u001b[49m\u001b[38;5;241;43m=\u001b[39;49m\u001b[43mx\u001b[49m\u001b[43m,\u001b[49m\u001b[43m \u001b[49m\u001b[43my\u001b[49m\u001b[38;5;241;43m=\u001b[39;49m\u001b[43my\u001b[49m\u001b[43m,\u001b[49m\u001b[43m \u001b[49m\u001b[43mhue\u001b[49m\u001b[38;5;241;43m=\u001b[39;49m\u001b[43mhue\u001b[49m\u001b[43m,\u001b[49m\u001b[43m \u001b[49m\u001b[43mweights\u001b[49m\u001b[38;5;241;43m=\u001b[39;49m\u001b[43mweights\u001b[49m\u001b[43m)\u001b[49m\u001b[43m,\u001b[49m\n\u001b[0;32m   1672\u001b[0m \u001b[43m\u001b[49m\u001b[43m)\u001b[49m\n\u001b[0;32m   1674\u001b[0m p\u001b[38;5;241m.\u001b[39mmap_hue(palette\u001b[38;5;241m=\u001b[39mpalette, order\u001b[38;5;241m=\u001b[39mhue_order, norm\u001b[38;5;241m=\u001b[39mhue_norm)\n\u001b[0;32m   1676\u001b[0m \u001b[38;5;28;01mif\u001b[39;00m ax \u001b[38;5;129;01mis\u001b[39;00m \u001b[38;5;28;01mNone\u001b[39;00m:\n",
            "File \u001b[1;32mc:\\Users\\Safowaa\\Documents\\Azibiafrica\\AzubiPython\\The_Regression_Project\\virtual\\lib\\site-packages\\seaborn\\distributions.py:110\u001b[0m, in \u001b[0;36m_DistributionPlotter.__init__\u001b[1;34m(self, data, variables)\u001b[0m\n\u001b[0;32m    104\u001b[0m \u001b[38;5;28;01mdef\u001b[39;00m \u001b[38;5;21m__init__\u001b[39m(\n\u001b[0;32m    105\u001b[0m     \u001b[38;5;28mself\u001b[39m,\n\u001b[0;32m    106\u001b[0m     data\u001b[38;5;241m=\u001b[39m\u001b[38;5;28;01mNone\u001b[39;00m,\n\u001b[0;32m    107\u001b[0m     variables\u001b[38;5;241m=\u001b[39m{},\n\u001b[0;32m    108\u001b[0m ):\n\u001b[1;32m--> 110\u001b[0m     \u001b[38;5;28;43msuper\u001b[39;49m\u001b[43m(\u001b[49m\u001b[43m)\u001b[49m\u001b[38;5;241;43m.\u001b[39;49m\u001b[38;5;21;43m__init__\u001b[39;49m\u001b[43m(\u001b[49m\u001b[43mdata\u001b[49m\u001b[38;5;241;43m=\u001b[39;49m\u001b[43mdata\u001b[49m\u001b[43m,\u001b[49m\u001b[43m \u001b[49m\u001b[43mvariables\u001b[49m\u001b[38;5;241;43m=\u001b[39;49m\u001b[43mvariables\u001b[49m\u001b[43m)\u001b[49m\n",
            "File \u001b[1;32mc:\\Users\\Safowaa\\Documents\\Azibiafrica\\AzubiPython\\The_Regression_Project\\virtual\\lib\\site-packages\\seaborn\\_base.py:634\u001b[0m, in \u001b[0;36mVectorPlotter.__init__\u001b[1;34m(self, data, variables)\u001b[0m\n\u001b[0;32m    629\u001b[0m \u001b[38;5;66;03m# var_ordered is relevant only for categorical axis variables, and may\u001b[39;00m\n\u001b[0;32m    630\u001b[0m \u001b[38;5;66;03m# be better handled by an internal axis information object that tracks\u001b[39;00m\n\u001b[0;32m    631\u001b[0m \u001b[38;5;66;03m# such information and is set up by the scale_* methods. The analogous\u001b[39;00m\n\u001b[0;32m    632\u001b[0m \u001b[38;5;66;03m# information for numeric axes would be information about log scales.\u001b[39;00m\n\u001b[0;32m    633\u001b[0m \u001b[38;5;28mself\u001b[39m\u001b[38;5;241m.\u001b[39m_var_ordered \u001b[38;5;241m=\u001b[39m {\u001b[38;5;124m\"\u001b[39m\u001b[38;5;124mx\u001b[39m\u001b[38;5;124m\"\u001b[39m: \u001b[38;5;28;01mFalse\u001b[39;00m, \u001b[38;5;124m\"\u001b[39m\u001b[38;5;124my\u001b[39m\u001b[38;5;124m\"\u001b[39m: \u001b[38;5;28;01mFalse\u001b[39;00m}  \u001b[38;5;66;03m# alt., used DefaultDict\u001b[39;00m\n\u001b[1;32m--> 634\u001b[0m \u001b[38;5;28;43mself\u001b[39;49m\u001b[38;5;241;43m.\u001b[39;49m\u001b[43massign_variables\u001b[49m\u001b[43m(\u001b[49m\u001b[43mdata\u001b[49m\u001b[43m,\u001b[49m\u001b[43m \u001b[49m\u001b[43mvariables\u001b[49m\u001b[43m)\u001b[49m\n\u001b[0;32m    636\u001b[0m \u001b[38;5;66;03m# TODO Lots of tests assume that these are called to initialize the\u001b[39;00m\n\u001b[0;32m    637\u001b[0m \u001b[38;5;66;03m# mappings to default values on class initialization. I'd prefer to\u001b[39;00m\n\u001b[0;32m    638\u001b[0m \u001b[38;5;66;03m# move away from that and only have a mapping when explicitly called.\u001b[39;00m\n\u001b[0;32m    639\u001b[0m \u001b[38;5;28;01mfor\u001b[39;00m var \u001b[38;5;129;01min\u001b[39;00m [\u001b[38;5;124m\"\u001b[39m\u001b[38;5;124mhue\u001b[39m\u001b[38;5;124m\"\u001b[39m, \u001b[38;5;124m\"\u001b[39m\u001b[38;5;124msize\u001b[39m\u001b[38;5;124m\"\u001b[39m, \u001b[38;5;124m\"\u001b[39m\u001b[38;5;124mstyle\u001b[39m\u001b[38;5;124m\"\u001b[39m]:\n",
            "File \u001b[1;32mc:\\Users\\Safowaa\\Documents\\Azibiafrica\\AzubiPython\\The_Regression_Project\\virtual\\lib\\site-packages\\seaborn\\_base.py:673\u001b[0m, in \u001b[0;36mVectorPlotter.assign_variables\u001b[1;34m(self, data, variables)\u001b[0m\n\u001b[0;32m    671\u001b[0m \u001b[38;5;28;01mif\u001b[39;00m x \u001b[38;5;129;01mis\u001b[39;00m \u001b[38;5;28;01mNone\u001b[39;00m \u001b[38;5;129;01mand\u001b[39;00m y \u001b[38;5;129;01mis\u001b[39;00m \u001b[38;5;28;01mNone\u001b[39;00m:\n\u001b[0;32m    672\u001b[0m     \u001b[38;5;28mself\u001b[39m\u001b[38;5;241m.\u001b[39minput_format \u001b[38;5;241m=\u001b[39m \u001b[38;5;124m\"\u001b[39m\u001b[38;5;124mwide\u001b[39m\u001b[38;5;124m\"\u001b[39m\n\u001b[1;32m--> 673\u001b[0m     frame, names \u001b[38;5;241m=\u001b[39m \u001b[38;5;28mself\u001b[39m\u001b[38;5;241m.\u001b[39m_assign_variables_wideform(data, \u001b[38;5;241m*\u001b[39m\u001b[38;5;241m*\u001b[39mvariables)\n\u001b[0;32m    674\u001b[0m \u001b[38;5;28;01melse\u001b[39;00m:\n\u001b[0;32m    675\u001b[0m     \u001b[38;5;66;03m# When dealing with long-form input, use the newer PlotData\u001b[39;00m\n\u001b[0;32m    676\u001b[0m     \u001b[38;5;66;03m# object (internal but introduced for the objects interface)\u001b[39;00m\n\u001b[0;32m    677\u001b[0m     \u001b[38;5;66;03m# to centralize / standardize data consumption logic.\u001b[39;00m\n\u001b[0;32m    678\u001b[0m     \u001b[38;5;28mself\u001b[39m\u001b[38;5;241m.\u001b[39minput_format \u001b[38;5;241m=\u001b[39m \u001b[38;5;124m\"\u001b[39m\u001b[38;5;124mlong\u001b[39m\u001b[38;5;124m\"\u001b[39m\n",
            "File \u001b[1;32mc:\\Users\\Safowaa\\Documents\\Azibiafrica\\AzubiPython\\The_Regression_Project\\virtual\\lib\\site-packages\\seaborn\\_base.py:733\u001b[0m, in \u001b[0;36mVectorPlotter._assign_variables_wideform\u001b[1;34m(self, data, **kwargs)\u001b[0m\n\u001b[0;32m    731\u001b[0m \u001b[38;5;28;01melse\u001b[39;00m:\n\u001b[0;32m    732\u001b[0m     values \u001b[38;5;241m=\u001b[39m np\u001b[38;5;241m.\u001b[39matleast_1d(np\u001b[38;5;241m.\u001b[39masarray(data, dtype\u001b[38;5;241m=\u001b[39m\u001b[38;5;28mobject\u001b[39m))\n\u001b[1;32m--> 733\u001b[0m flat \u001b[38;5;241m=\u001b[39m \u001b[38;5;129;01mnot\u001b[39;00m \u001b[38;5;28;43many\u001b[39;49m\u001b[43m(\u001b[49m\n\u001b[0;32m    734\u001b[0m \u001b[43m    \u001b[49m\u001b[38;5;28;43misinstance\u001b[39;49m\u001b[43m(\u001b[49m\u001b[43mv\u001b[49m\u001b[43m,\u001b[49m\u001b[43m \u001b[49m\u001b[43mIterable\u001b[49m\u001b[43m)\u001b[49m\u001b[43m \u001b[49m\u001b[38;5;129;43;01mand\u001b[39;49;00m\u001b[43m \u001b[49m\u001b[38;5;129;43;01mnot\u001b[39;49;00m\u001b[43m \u001b[49m\u001b[38;5;28;43misinstance\u001b[39;49m\u001b[43m(\u001b[49m\u001b[43mv\u001b[49m\u001b[43m,\u001b[49m\u001b[43m \u001b[49m\u001b[43m(\u001b[49m\u001b[38;5;28;43mstr\u001b[39;49m\u001b[43m,\u001b[49m\u001b[43m \u001b[49m\u001b[38;5;28;43mbytes\u001b[39;49m\u001b[43m)\u001b[49m\u001b[43m)\u001b[49m\n\u001b[0;32m    735\u001b[0m \u001b[43m    \u001b[49m\u001b[38;5;28;43;01mfor\u001b[39;49;00m\u001b[43m \u001b[49m\u001b[43mv\u001b[49m\u001b[43m \u001b[49m\u001b[38;5;129;43;01min\u001b[39;49;00m\u001b[43m \u001b[49m\u001b[43mvalues\u001b[49m\n\u001b[0;32m    736\u001b[0m \u001b[43m\u001b[49m\u001b[43m)\u001b[49m\n\u001b[0;32m    738\u001b[0m \u001b[38;5;28;01mif\u001b[39;00m empty:\n\u001b[0;32m    739\u001b[0m \n\u001b[0;32m    740\u001b[0m     \u001b[38;5;66;03m# Make an object with the structure of plot_data, but empty\u001b[39;00m\n\u001b[0;32m    741\u001b[0m     plot_data \u001b[38;5;241m=\u001b[39m pd\u001b[38;5;241m.\u001b[39mDataFrame()\n",
            "File \u001b[1;32mc:\\Users\\Safowaa\\Documents\\Azibiafrica\\AzubiPython\\The_Regression_Project\\virtual\\lib\\site-packages\\seaborn\\_base.py:734\u001b[0m, in \u001b[0;36m<genexpr>\u001b[1;34m(.0)\u001b[0m\n\u001b[0;32m    731\u001b[0m \u001b[38;5;28;01melse\u001b[39;00m:\n\u001b[0;32m    732\u001b[0m     values \u001b[38;5;241m=\u001b[39m np\u001b[38;5;241m.\u001b[39matleast_1d(np\u001b[38;5;241m.\u001b[39masarray(data, dtype\u001b[38;5;241m=\u001b[39m\u001b[38;5;28mobject\u001b[39m))\n\u001b[0;32m    733\u001b[0m flat \u001b[38;5;241m=\u001b[39m \u001b[38;5;129;01mnot\u001b[39;00m \u001b[38;5;28many\u001b[39m(\n\u001b[1;32m--> 734\u001b[0m     \u001b[38;5;28;43misinstance\u001b[39;49m\u001b[43m(\u001b[49m\u001b[43mv\u001b[49m\u001b[43m,\u001b[49m\u001b[43m \u001b[49m\u001b[43mIterable\u001b[49m\u001b[43m)\u001b[49m \u001b[38;5;129;01mand\u001b[39;00m \u001b[38;5;129;01mnot\u001b[39;00m \u001b[38;5;28misinstance\u001b[39m(v, (\u001b[38;5;28mstr\u001b[39m, \u001b[38;5;28mbytes\u001b[39m))\n\u001b[0;32m    735\u001b[0m     \u001b[38;5;28;01mfor\u001b[39;00m v \u001b[38;5;129;01min\u001b[39;00m values\n\u001b[0;32m    736\u001b[0m )\n\u001b[0;32m    738\u001b[0m \u001b[38;5;28;01mif\u001b[39;00m empty:\n\u001b[0;32m    739\u001b[0m \n\u001b[0;32m    740\u001b[0m     \u001b[38;5;66;03m# Make an object with the structure of plot_data, but empty\u001b[39;00m\n\u001b[0;32m    741\u001b[0m     plot_data \u001b[38;5;241m=\u001b[39m pd\u001b[38;5;241m.\u001b[39mDataFrame()\n",
            "File \u001b[1;32mC:\\Program Files\\WindowsApps\\PythonSoftwareFoundation.Python.3.10_3.10.3056.0_x64__qbz5n2kfra8p0\\lib\\abc.py:119\u001b[0m, in \u001b[0;36mABCMeta.__instancecheck__\u001b[1;34m(cls, instance)\u001b[0m\n\u001b[0;32m    117\u001b[0m \u001b[38;5;28;01mdef\u001b[39;00m \u001b[38;5;21m__instancecheck__\u001b[39m(\u001b[38;5;28mcls\u001b[39m, instance):\n\u001b[0;32m    118\u001b[0m \u001b[38;5;250m    \u001b[39m\u001b[38;5;124;03m\"\"\"Override for isinstance(instance, cls).\"\"\"\u001b[39;00m\n\u001b[1;32m--> 119\u001b[0m     \u001b[38;5;28;01mreturn\u001b[39;00m \u001b[43m_abc_instancecheck\u001b[49m\u001b[43m(\u001b[49m\u001b[38;5;28;43mcls\u001b[39;49m\u001b[43m,\u001b[49m\u001b[43m \u001b[49m\u001b[43minstance\u001b[49m\u001b[43m)\u001b[49m\n",
            "\u001b[1;31mKeyboardInterrupt\u001b[0m: "
          ]
        }
      ],
      "source": [
        "# plot KDE plot for the sales column\n",
        "\n",
        "sns.kdeplot(train_data['sales'], shade=True)"
      ]
    },
    {
      "cell_type": "code",
      "execution_count": null,
      "metadata": {},
      "outputs": [
        {
          "data": {
            "text/plain": [
              "<Axes: xlabel='family', ylabel='sales'>"
            ]
          },
          "execution_count": 125,
          "metadata": {},
          "output_type": "execute_result"
        },
        {
          "data": {
            "image/png": "[encoded data removed]",
            "text/plain": [
              "<Figure size 640x480 with 1 Axes>"
            ]
          },
          "metadata": {},
          "output_type": "display_data"
        }
      ],
      "source": [
        "# Visualize dcoilwtico as bar plot\n",
        "\n",
        "sns.barplot(x='family', y='sales', data=train_data)"
      ]
    },
    {
      "cell_type": "code",
      "execution_count": null,
      "metadata": {},
      "outputs": [
        {
          "data": {
            "text/plain": [
              "<Axes: xlabel='dcoilwtico', ylabel='Density'>"
            ]
          },
          "execution_count": 126,
          "metadata": {},
          "output_type": "execute_result"
        },
        {
          "data": {
            "image/png": "[encoded data removed]",
            "text/plain": [
              "<Figure size 640x480 with 1 Axes>"
            ]
          },
          "metadata": {},
          "output_type": "display_data"
        }
      ],
      "source": [
        "# Visualize KDE plot for dcoilwtico\n",
        "\n",
        "sns.kdeplot(train_data['dcoilwtico'], shade=True)"
      ]
    },
    {
      "cell_type": "code",
      "execution_count": null,
      "metadata": {},
      "outputs": [
        {
          "data": {
            "text/plain": [
              "<Axes: xlabel='store_nbr', ylabel='Density'>"
            ]
          },
          "execution_count": 127,
          "metadata": {},
          "output_type": "execute_result"
        },
        {
          "data": {
            "image/png": "[encoded data removed]",
            "text/plain": [
              "<Figure size 640x480 with 1 Axes>"
            ]
          },
          "metadata": {},
          "output_type": "display_data"
        }
      ],
      "source": [
        "# plot KDE plot for store_nbr \n",
        "\n",
        "sns.kdeplot(train_data['store_nbr'], shade=True)\n"
      ]
    },
    {
      "cell_type": "code",
      "execution_count": null,
      "metadata": {},
      "outputs": [
        {
          "data": {
            "text/plain": [
              "<Axes: xlabel='cluster', ylabel='count'>"
            ]
          },
          "execution_count": 128,
          "metadata": {},
          "output_type": "execute_result"
        },
        {
          "data": {
            "image/png": "[encoded data removed]",
            "text/plain": [
              "<Figure size 640x480 with 1 Axes>"
            ]
          },
          "metadata": {},
          "output_type": "display_data"
        }
      ],
      "source": [
        "# Visualize cluster\n",
        "\n",
        "sns.countplot(x='cluster', data=train_data)"
      ]
    },
    {
      "cell_type": "code",
      "execution_count": null,
      "metadata": {},
      "outputs": [
        {
          "data": {
            "text/plain": [
              "<Axes: xlabel='cluster', ylabel='Density'>"
            ]
          },
          "execution_count": 129,
          "metadata": {},
          "output_type": "execute_result"
        },
        {
          "data": {
            "image/png": "[encoded data removed]",
            "text/plain": [
              "<Figure size 640x480 with 1 Axes>"
            ]
          },
          "metadata": {},
          "output_type": "display_data"
        }
      ],
      "source": [
        "#  view cluster as KDE plot\n",
        "\n",
        "sns.kdeplot(train_data['cluster'], shade=True)"
      ]
    },
    {
      "cell_type": "code",
      "execution_count": null,
      "metadata": {},
      "outputs": [
        {
          "data": {
            "text/plain": [
              "<Axes: xlabel='id', ylabel='Density'>"
            ]
          },
          "execution_count": 131,
          "metadata": {},
          "output_type": "execute_result"
        },
        {
          "data": {
            "image/png": "[encoded data removed]",
            "text/plain": [
              "<Figure size 640x480 with 1 Axes>"
            ]
          },
          "metadata": {},
          "output_type": "display_data"
        }
      ],
      "source": [
        "# Use KDE plot to visualize id\n",
        "\n",
        "sns.kdeplot(train_data['id'], shade=True)"
      ]
    },
    {
      "cell_type": "code",
      "execution_count": null,
      "metadata": {},
      "outputs": [
        {
          "data": {
            "text/plain": [
              "<Axes: xlabel='onpromotion', ylabel='Density'>"
            ]
          },
          "execution_count": 133,
          "metadata": {},
          "output_type": "execute_result"
        },
        {
          "data": {
            "image/png": "[encoded data removed]",
            "text/plain": [
              "<Figure size 640x480 with 1 Axes>"
            ]
          },
          "metadata": {},
          "output_type": "display_data"
        }
      ],
      "source": [
        "# visualize onpromotion with KDE plot\n",
        "\n",
        "sns.kdeplot(train_data['onpromotion'], shade=True)\n"
      ]
    },
    {
      "cell_type": "markdown",
      "metadata": {
        "id": "HwNIKi8K-WlT"
      },
      "source": [
        "`Bivariate & Multivariate Analysis`\n",
        "Here is the section to explore, analyze, visualize each variable in relation to the others."
      ]
    },
    {
      "cell_type": "code",
      "execution_count": null,
      "metadata": {},
      "outputs": [
        {
          "data": {
            "text/html": [
              "<div>\n",
              "<style scoped>\n",
              "    .dataframe tbody tr th:only-of-type {\n",
              "        vertical-align: middle;\n",
              "    }\n",
              "\n",
              "    .dataframe tbody tr th {\n",
              "        vertical-align: top;\n",
              "    }\n",
              "\n",
              "    .dataframe thead th {\n",
              "        text-align: right;\n",
              "    }\n",
              "</style>\n",
              "<table border=\"1\" class=\"dataframe\">\n",
              "  <thead>\n",
              "    <tr style=\"text-align: right;\">\n",
              "      <th></th>\n",
              "      <th>dcoilwtico</th>\n",
              "      <th>store_nbr</th>\n",
              "      <th>cluster</th>\n",
              "      <th>id</th>\n",
              "      <th>sales</th>\n",
              "      <th>onpromotion</th>\n",
              "      <th>transactions</th>\n",
              "    </tr>\n",
              "  </thead>\n",
              "  <tbody>\n",
              "    <tr>\n",
              "      <th>count</th>\n",
              "      <td>1175.000000</td>\n",
              "      <td>3.084430e+06</td>\n",
              "      <td>54.000000</td>\n",
              "      <td>3.000888e+06</td>\n",
              "      <td>3.000888e+06</td>\n",
              "      <td>3.000888e+06</td>\n",
              "      <td>83488.000000</td>\n",
              "    </tr>\n",
              "    <tr>\n",
              "      <th>mean</th>\n",
              "      <td>67.714366</td>\n",
              "      <td>2.748482e+01</td>\n",
              "      <td>8.481481</td>\n",
              "      <td>1.500444e+06</td>\n",
              "      <td>3.577757e+02</td>\n",
              "      <td>2.602770e+00</td>\n",
              "      <td>1694.602158</td>\n",
              "    </tr>\n",
              "    <tr>\n",
              "      <th>std</th>\n",
              "      <td>25.630476</td>\n",
              "      <td>1.558666e+01</td>\n",
              "      <td>4.693395</td>\n",
              "      <td>8.662819e+05</td>\n",
              "      <td>1.101998e+03</td>\n",
              "      <td>1.221888e+01</td>\n",
              "      <td>963.286644</td>\n",
              "    </tr>\n",
              "    <tr>\n",
              "      <th>min</th>\n",
              "      <td>26.190001</td>\n",
              "      <td>1.000000e+00</td>\n",
              "      <td>1.000000</td>\n",
              "      <td>0.000000e+00</td>\n",
              "      <td>0.000000e+00</td>\n",
              "      <td>0.000000e+00</td>\n",
              "      <td>5.000000</td>\n",
              "    </tr>\n",
              "    <tr>\n",
              "      <th>25%</th>\n",
              "      <td>46.405001</td>\n",
              "      <td>1.400000e+01</td>\n",
              "      <td>4.000000</td>\n",
              "      <td>7.502218e+05</td>\n",
              "      <td>0.000000e+00</td>\n",
              "      <td>0.000000e+00</td>\n",
              "      <td>1046.000000</td>\n",
              "    </tr>\n",
              "    <tr>\n",
              "      <th>50%</th>\n",
              "      <td>53.189999</td>\n",
              "      <td>2.700000e+01</td>\n",
              "      <td>8.500000</td>\n",
              "      <td>1.500444e+06</td>\n",
              "      <td>1.100000e+01</td>\n",
              "      <td>0.000000e+00</td>\n",
              "      <td>1393.000000</td>\n",
              "    </tr>\n",
              "    <tr>\n",
              "      <th>75%</th>\n",
              "      <td>95.660000</td>\n",
              "      <td>4.100000e+01</td>\n",
              "      <td>13.000000</td>\n",
              "      <td>2.250665e+06</td>\n",
              "      <td>1.958473e+02</td>\n",
              "      <td>0.000000e+00</td>\n",
              "      <td>2079.000000</td>\n",
              "    </tr>\n",
              "    <tr>\n",
              "      <th>max</th>\n",
              "      <td>110.620003</td>\n",
              "      <td>5.400000e+01</td>\n",
              "      <td>17.000000</td>\n",
              "      <td>3.000887e+06</td>\n",
              "      <td>1.247170e+05</td>\n",
              "      <td>7.410000e+02</td>\n",
              "      <td>8359.000000</td>\n",
              "    </tr>\n",
              "  </tbody>\n",
              "</table>\n",
              "</div>"
            ],
            "text/plain": [
              "        dcoilwtico     store_nbr    cluster            id         sales  \\\n",
              "count  1175.000000  3.084430e+06  54.000000  3.000888e+06  3.000888e+06   \n",
              "mean     67.714366  2.748482e+01   8.481481  1.500444e+06  3.577757e+02   \n",
              "std      25.630476  1.558666e+01   4.693395  8.662819e+05  1.101998e+03   \n",
              "min      26.190001  1.000000e+00   1.000000  0.000000e+00  0.000000e+00   \n",
              "25%      46.405001  1.400000e+01   4.000000  7.502218e+05  0.000000e+00   \n",
              "50%      53.189999  2.700000e+01   8.500000  1.500444e+06  1.100000e+01   \n",
              "75%      95.660000  4.100000e+01  13.000000  2.250665e+06  1.958473e+02   \n",
              "max     110.620003  5.400000e+01  17.000000  3.000887e+06  1.247170e+05   \n",
              "\n",
              "        onpromotion  transactions  \n",
              "count  3.000888e+06  83488.000000  \n",
              "mean   2.602770e+00   1694.602158  \n",
              "std    1.221888e+01    963.286644  \n",
              "min    0.000000e+00      5.000000  \n",
              "25%    0.000000e+00   1046.000000  \n",
              "50%    0.000000e+00   1393.000000  \n",
              "75%    0.000000e+00   2079.000000  \n",
              "max    7.410000e+02   8359.000000  "
            ]
          },
          "execution_count": 134,
          "metadata": {},
          "output_type": "execute_result"
        }
      ],
      "source": [
        "# Describe the numerical values of the dataset \n",
        "\n",
        "train_data.describe()"
      ]
    },
    {
      "cell_type": "code",
      "execution_count": null,
      "metadata": {},
      "outputs": [
        {
          "data": {
            "text/plain": [
              "array([[<Axes: title={'center': 'dcoilwtico'}>,\n",
              "        <Axes: title={'center': 'store_nbr'}>,\n",
              "        <Axes: title={'center': 'cluster'}>],\n",
              "       [<Axes: title={'center': 'id'}>,\n",
              "        <Axes: title={'center': 'sales'}>,\n",
              "        <Axes: title={'center': 'onpromotion'}>],\n",
              "       [<Axes: title={'center': 'transactions'}>, <Axes: >, <Axes: >]],\n",
              "      dtype=object)"
            ]
          },
          "metadata": {},
          "output_type": "display_data"
        },
        {
          "data": {
            "image/png": "[encoded data removed]",
            "text/plain": [
              "<Figure size 2000x1500 with 9 Axes>"
            ]
          },
          "metadata": {},
          "output_type": "display_data"
        }
      ],
      "source": [
        "# Plotting histograms on the columns\n",
        "\n",
        "train_data.hist(bins=30, figsize=(20,15))"
      ]
    },
    {
      "cell_type": "code",
      "execution_count": null,
      "metadata": {
        "id": "iRaCoXds-sXT"
      },
      "outputs": [],
      "source": []
    },
    {
      "cell_type": "markdown",
      "metadata": {
        "id": "R8WB7j-3fxzL"
      },
      "source": [
        "## Feature Processing & Engineering\n",
        "Here is the section to **clean**, **process** the dataset and **create new features**."
      ]
    },
    {
      "cell_type": "markdown",
      "metadata": {
        "id": "X6Rh5SimmcGe"
      },
      "source": [
        "`Drop Duplicates`"
      ]
    },
    {
      "cell_type": "code",
      "execution_count": null,
      "metadata": {
        "id": "dIBrDy1Pmo2_"
      },
      "outputs": [],
      "source": []
    },
    {
      "cell_type": "markdown",
      "metadata": {
        "id": "dLJuYG_JgBH8"
      },
      "source": [
        "`Impute Missing Values`"
      ]
    },
    {
      "cell_type": "code",
      "execution_count": null,
      "metadata": {
        "id": "52POL1F8gLEa"
      },
      "outputs": [],
      "source": []
    },
    {
      "cell_type": "markdown",
      "metadata": {},
      "source": [
        "## Answering Hypothesis Questions"
      ]
    },
    {
      "cell_type": "code",
      "execution_count": null,
      "metadata": {},
      "outputs": [],
      "source": []
    },
    {
      "cell_type": "markdown",
      "metadata": {},
      "source": [
        "## Answering Business Questions"
      ]
    },
    {
      "cell_type": "code",
      "execution_count": null,
      "metadata": {},
      "outputs": [],
      "source": []
    },
    {
      "cell_type": "markdown",
      "metadata": {},
      "source": [
        "`Dataset Splitting`"
      ]
    },
    {
      "cell_type": "code",
      "execution_count": null,
      "metadata": {},
      "outputs": [],
      "source": []
    },
    {
      "cell_type": "markdown",
      "metadata": {
        "id": "vOoXNG6lgLVD"
      },
      "source": [
        "`New Features Creation`"
      ]
    },
    {
      "cell_type": "code",
      "execution_count": null,
      "metadata": {
        "id": "fU5RQ0itegd4"
      },
      "outputs": [],
      "source": []
    },
    {
      "cell_type": "markdown",
      "metadata": {
        "id": "eYkNdwQ-gRod"
      },
      "source": [
        "`Features Encoding`"
      ]
    },
    {
      "cell_type": "code",
      "execution_count": null,
      "metadata": {
        "id": "99vphpwPgbUw"
      },
      "outputs": [],
      "source": [
        "# From sklearn.preprocessing use OneHotEncoder to encode the categorical features."
      ]
    },
    {
      "cell_type": "markdown",
      "metadata": {
        "id": "Q0TvhRVghEcP"
      },
      "source": [
        "`Features Scaling`\n"
      ]
    },
    {
      "cell_type": "code",
      "execution_count": null,
      "metadata": {
        "id": "pf6WtuHphLBE"
      },
      "outputs": [],
      "source": [
        "# From sklearn.preprocessing use StandardScaler, MinMaxScaler, etc."
      ]
    },
    {
      "cell_type": "markdown",
      "metadata": {
        "id": "4-UlAVv4iYz8"
      },
      "source": [
        "## Optional: Train set Balancing (for Classification only)"
      ]
    },
    {
      "cell_type": "code",
      "execution_count": null,
      "metadata": {
        "id": "ySLn254IiujE"
      },
      "outputs": [],
      "source": []
    },
    {
      "cell_type": "markdown",
      "metadata": {
        "id": "WloQgMqqf6bT"
      },
      "source": [
        "## Machine Learning Modeling \n",
        "Here is the section to **build**, **train**, **evaluate** and **compare** the models to each others."
      ]
    },
    {
      "cell_type": "markdown",
      "metadata": {
        "id": "tTiiqCnG1FA2"
      },
      "source": [
        "## Simple Model #001\n",
        "\n",
        "Please, keep the following structure to try all the model you want."
      ]
    },
    {
      "cell_type": "markdown",
      "metadata": {
        "id": "46li5Z2z1ME7"
      },
      "source": [
        "### Create the Model"
      ]
    },
    {
      "cell_type": "code",
      "execution_count": null,
      "metadata": {
        "id": "1Fjv6pJt1uoV"
      },
      "outputs": [],
      "source": []
    },
    {
      "cell_type": "markdown",
      "metadata": {
        "id": "XwHqTKk11U5f"
      },
      "source": [
        "### Train the Model"
      ]
    },
    {
      "cell_type": "code",
      "execution_count": null,
      "metadata": {
        "id": "fgsct6LH1v9e"
      },
      "outputs": [],
      "source": []
    },
    {
      "cell_type": "markdown",
      "metadata": {
        "id": "M6aXGMEf1Yra"
      },
      "source": [
        "### Evaluate the Model on the Evaluation dataset (Evalset)"
      ]
    },
    {
      "cell_type": "code",
      "execution_count": null,
      "metadata": {
        "id": "9XBrsspR1wso"
      },
      "outputs": [],
      "source": []
    },
    {
      "cell_type": "markdown",
      "metadata": {
        "id": "001NdcP11dMu"
      },
      "source": [
        "### Predict on a unknown dataset (Testset)"
      ]
    },
    {
      "cell_type": "code",
      "execution_count": null,
      "metadata": {
        "id": "mWnGeGn0i3b0"
      },
      "outputs": [],
      "source": []
    },
    {
      "cell_type": "markdown",
      "metadata": {
        "id": "A54gPujOmqaV"
      },
      "source": [
        "## Simple Model #002"
      ]
    },
    {
      "cell_type": "markdown",
      "metadata": {
        "id": "MC6WaxZUmqaW"
      },
      "source": [
        "### Create the Model"
      ]
    },
    {
      "cell_type": "code",
      "execution_count": null,
      "metadata": {
        "id": "THTw7OjhmqaW"
      },
      "outputs": [],
      "source": []
    },
    {
      "cell_type": "markdown",
      "metadata": {
        "id": "n7CV9W0DmqaW"
      },
      "source": [
        "### Train the Model"
      ]
    },
    {
      "cell_type": "code",
      "execution_count": null,
      "metadata": {
        "id": "uQMdz0JPmqaW"
      },
      "outputs": [],
      "source": []
    },
    {
      "cell_type": "markdown",
      "metadata": {
        "id": "f1Fb-2_PmqaW"
      },
      "source": [
        "### Evaluate the Model on the Evaluation dataset (Evalset)"
      ]
    },
    {
      "cell_type": "code",
      "execution_count": null,
      "metadata": {
        "id": "oz3-pxgDmqaW"
      },
      "outputs": [],
      "source": []
    },
    {
      "cell_type": "markdown",
      "metadata": {
        "id": "7-x7GFqxmqaW"
      },
      "source": [
        "### Predict on a unknown dataset (Testset)"
      ]
    },
    {
      "cell_type": "code",
      "execution_count": null,
      "metadata": {
        "id": "ORaQB1zLmqaW"
      },
      "outputs": [],
      "source": []
    },
    {
      "cell_type": "markdown",
      "metadata": {
        "id": "S73ZUqkUmyz_"
      },
      "source": [
        "## Models comparison\n",
        "Create a pandas dataframe that will allow you to compare your models.\n",
        "\n",
        "Find a sample frame below :\n",
        "\n",
        "|     | Model_Name     | Metric (metric_name)    | Details  |\n",
        "|:---:|:--------------:|:--------------:|:-----------------:|\n",
        "| 0   |  -             |  -             | -                 |\n",
        "| 1   |  -             |  -             | -                 |\n",
        "\n",
        "\n",
        "You might use the pandas dataframe method `.sort_values()` to sort the dataframe regarding the metric."
      ]
    },
    {
      "cell_type": "code",
      "execution_count": null,
      "metadata": {
        "id": "jpwLiOo9pVIQ"
      },
      "outputs": [],
      "source": []
    },
    {
      "cell_type": "markdown",
      "metadata": {
        "id": "ezmrABneph31"
      },
      "source": [
        "## Hyperparameters tuning \n",
        "\n",
        "Fine-tune the Top-k models (3 < k < 5) using a ` GridSearchCV`  (that is in sklearn.model_selection\n",
        ") to find the best hyperparameters and achieve the maximum performance of each of the Top-k models, then compare them again to select the best one."
      ]
    },
    {
      "cell_type": "code",
      "execution_count": null,
      "metadata": {
        "id": "FpTEDK9RrlRl"
      },
      "outputs": [],
      "source": []
    },
    {
      "cell_type": "markdown",
      "metadata": {
        "id": "I_7_gsrX2VSk"
      },
      "source": [
        "# Export key components\n",
        "Here is the section to **export** the important ML objects that will be use to develop an app: *Encoder, Scaler, ColumnTransformer, Model, Pipeline, etc*."
      ]
    },
    {
      "cell_type": "code",
      "execution_count": null,
      "metadata": {
        "dotnet_interactive": {
          "language": "csharp"
        },
        "polyglot_notebook": {
          "kernelName": "csharp"
        }
      },
      "outputs": [],
      "source": []
    }
  ],
  "metadata": {
    "colab": {
      "authorship_tag": "ABX9TyMbGyfKWqwXNuXNuhQpgnBh",
      "collapsed_sections": [
        "S73ZUqkUmyz_",
        "wxYGw6zug8lI"
      ],
      "include_colab_link": true,
      "provenance": [],
      "toc_visible": true
    },
    "kernelspec": {
      "display_name": "virtual",
      "language": "python",
      "name": "python3"
    },
    "language_info": {
      "codemirror_mode": {
        "name": "ipython",
        "version": 3
      },
      "file_extension": ".py",
      "mimetype": "text/x-python",
      "name": "python",
      "nbconvert_exporter": "python",
      "pygments_lexer": "ipython3",
      "version": "3.10.11"
    },
    "polyglot_notebook": {
      "kernelInfo": {
        "defaultKernelName": "csharp",
        "items": [
          {
            "aliases": [],
            "name": "csharp"
          }
        ]
      }
    }
  },
  "nbformat": 4,
  "nbformat_minor": 0
}
